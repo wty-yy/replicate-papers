{
 "cells": [
  {
   "cell_type": "code",
   "execution_count": null,
   "id": "99764e8f",
   "metadata": {},
   "outputs": [],
   "source": [
    "import sys\n",
    "from pathlib import Path\n",
    "sys.path.append(str(Path.cwd().parent.parent))"
   ]
  },
  {
   "cell_type": "code",
   "execution_count": null,
   "id": "044fd603",
   "metadata": {},
   "outputs": [],
   "source": [
    "from katacv.utils.related_pkgs.jax_flax_optax_orbax import *\n",
    "from katacv.yolov1.yolov1 import get_yolov1_state\n",
    "\n",
    "state = get_yolov1_state()\n",
    "weights = ocp.PyTreeCheckpointer().restore(\"/home/wty/Coding/models/YOLOv1/YOLOv1-0080-lite\")\n",
    "# weights = ocp.PyTreeCheckpointer().restore(\"/home/yy/Coding/modelsets/YOLOv1/YOLOv1-0080-lite\")\n",
    "state = state.replace(params=weights['params'], batch_stats=weights['batch_stats'])"
   ]
  },
  {
   "cell_type": "code",
   "execution_count": null,
   "id": "75dbe147",
   "metadata": {},
   "outputs": [],
   "source": [
    "@jax.jit\n",
    "def predict(x):\n",
    "    proba, boxes = state.apply_fn(\n",
    "        {'params': state.params, 'batch_stats': state.batch_stats},\n",
    "        x, train=False\n",
    "    )\n",
    "    return jax.device_get(proba), jax.device_get(boxes)\n",
    "print(\"XLA compile...\")\n",
    "y = predict(jnp.empty((1,448,448,3), dtype='uint8'))\n",
    "print(\"Compile complete!\")"
   ]
  },
  {
   "cell_type": "code",
   "execution_count": null,
   "id": "fbb84f25",
   "metadata": {},
   "outputs": [],
   "source": [
    "from katacv.utils.VOC.build_dataset import VOCBuilder, Path\n",
    "from collections import namedtuple\n",
    "args = {\n",
    "    'path_dataset_tfrecord': Path('/home/wty/Coding/datasets/VOC/tfrecord'),\n",
    "    'batch_size': 1,\n",
    "    'shuffle_size': 1,\n",
    "    'image_size': 448,\n",
    "    'split_size': 7\n",
    "}\n",
    "args = namedtuple('Args', args)(**args)\n",
    "ds_builder = VOCBuilder(args)\n",
    "ds, ds_size = ds_builder.get_dataset('val', use_aug=False)\n",
    "\"\"\"\n",
    "8examples:\n",
    "average mAP: 0.9583333333333334\n",
    "average coco mAP: 0.7729166666666666\n",
    "\n",
    "100examples:\n",
    "average mAP: 0.8321197411003236\n",
    "average coco mAP: 0.5845573008437084\n",
    "\n",
    "val:\n",
    "average mAP: 0.52847098262852\n",
    "average coco mAP: 0.279217751483262\n",
    "\"\"\""
   ]
  },
  {
   "cell_type": "code",
   "execution_count": null,
   "id": "6e0dc83e",
   "metadata": {
    "scrolled": false
   },
   "outputs": [],
   "source": [
    "import matplotlib.pyplot as plt\n",
    "from katacv.utils.detection import plot_box, cvt_coord_cell2image, nms, get_best_boxes_and_classes, mAP, cvt_one_label2boxes, iou, coco_mAP\n",
    "from katacv.utils.VOC.label2realname import label2realname\n",
    "import numpy as np\n",
    "from tqdm import tqdm\n",
    "S = 7\n",
    "\n",
    "mAP_avg = 0\n",
    "coco_mAP_avg = 0\n",
    "for i, (image, label) in enumerate(tqdm(ds, total=ds_size)):\n",
    "    image, label = image.numpy(), label[0].numpy()\n",
    "    # fig, ax = plt.subplots()\n",
    "    # ax.imshow(image[0])\n",
    "    \n",
    "    proba, boxes = predict(image)\n",
    "    cells = jnp.concatenate([proba, boxes], -1)\n",
    "    boxes = jax.jit(get_best_boxes_and_classes, static_argnums=[1,2])(cells, B=2, C=20)[0]\n",
    "    boxes = nms(boxes)\n",
    "    \n",
    "    target_boxes = cvt_one_label2boxes(label, 20)\n",
    "    # print(\"target:\", target_boxes)\n",
    "    # print(\"pred:\", boxes)\n",
    "    _mAP = mAP(boxes, target_boxes)\n",
    "    # print(\"mAP:\", _mAP)\n",
    "    coco = coco_mAP(boxes, target_boxes)\n",
    "    # print(\"coco_mAP:\", coco)\n",
    "    mAP_avg += _mAP; coco_mAP_avg += coco\n",
    "    \n",
    "    # for box in target_boxes:\n",
    "    #     text= f\"{label2realname[int(box[5])]}\"\n",
    "    #     plot_box(ax, image[0].shape, box[1:5], text)\n",
    "    # for box in boxes:\n",
    "    #     text= f\"pred {label2realname[int(box[5])]}\"\n",
    "    #     plot_box(ax, image[0].shape, box[1:5], text)\n",
    "    # plt.show() \n",
    "mAP_avg /= ds_size; coco_mAP_avg /= ds_size\n",
    "print(\"average mAP:\", mAP_avg)\n",
    "print(\"average coco mAP:\", coco_mAP_avg)"
   ]
  },
  {
   "cell_type": "code",
   "execution_count": null,
   "id": "cd30c50a",
   "metadata": {},
   "outputs": [],
   "source": []
  }
 ],
 "metadata": {
  "kernelspec": {
   "display_name": "Python 3 (ipykernel)",
   "language": "python",
   "name": "python3"
  },
  "language_info": {
   "codemirror_mode": {
    "name": "ipython",
    "version": 3
   },
   "file_extension": ".py",
   "mimetype": "text/x-python",
   "name": "python",
   "nbconvert_exporter": "python",
   "pygments_lexer": "ipython3",
   "version": "3.11.4"
  }
 },
 "nbformat": 4,
 "nbformat_minor": 5
}
