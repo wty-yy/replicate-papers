{
 "cells": [
  {
   "cell_type": "code",
   "execution_count": 3,
   "id": "99764e8f",
   "metadata": {},
   "outputs": [],
   "source": [
    "import sys\n",
    "from pathlib import Path\n",
    "sys.path.append(str(Path.cwd().parent.parent))"
   ]
  },
  {
   "cell_type": "code",
   "execution_count": 6,
   "id": "044fd603",
   "metadata": {},
   "outputs": [
    {
     "name": "stderr",
     "output_type": "stream",
     "text": [
      "No GPU/TPU found, falling back to CPU. (Set TF_CPP_MIN_LOG_LEVEL=0 and rerun for more info.)\n"
     ]
    },
    {
     "name": "stdout",
     "output_type": "stream",
     "text": [
      "dict_keys(['batch_stats', 'opt_state', 'params', 'step'])\n"
     ]
    }
   ],
   "source": [
    "from katacv.utils.related_pkgs.jax_flax_optax_orbax import *\n",
    "from katacv.ocr.parser import get_args_and_writer\n",
    "from katacv.ocr.cnn_model import get_ocr_cnn_state\n",
    "\n",
    "args = get_args_and_writer(no_writer=True, input_args=\"\")\n",
    "state = get_ocr_cnn_state(args)\n",
    "weights = ocp.PyTreeCheckpointer().restore(\"/home/wty/Coding/models/OCR-CNN/OCR-CNN-0002-lite\")\n",
    "print(weights.keys())\n",
    "# weights = ocp.PyTreeCheckpointer().restore(\"/home/yy/Coding/models/YOLOv1/YOLOv1-0080-lite\")\n",
    "state = state.replace(params=weights['params'], batch_stats=weights['batch_stats'])\n",
    "# state = state.replace(params=weights['params'], params_darknet=None, batch_stats=weights['batch_stats'])"
   ]
  },
  {
   "cell_type": "code",
   "execution_count": 37,
   "id": "93a8dcce",
   "metadata": {},
   "outputs": [
    {
     "name": "stdout",
     "output_type": "stream",
     "text": [
      "XLA compile...\n",
      "Compile complete! Use time: 0.02 s\n"
     ]
    }
   ],
   "source": [
    "from katacv.ocr.ocr_predict import predict, apply_mask\n",
    "import time\n",
    "start_time = time.time()\n",
    "print(\"XLA compile...\")\n",
    "input_shape = (1, 32, 100, 1)\n",
    "def predict_result(x):\n",
    "    pred_idx, mask = predict(state, x)\n",
    "    y_pred = apply_mask(pred_idx, mask, args.max_label_length)\n",
    "    pred_seq = []\n",
    "    for i in range(y_pred.shape[0]):\n",
    "        seq = []\n",
    "        for j in range(y_pred.shape[1]):\n",
    "            if y_pred[i,j] == 0: break\n",
    "            seq.append(chr(args.idx2ch[y_pred[i,j]]))\n",
    "        pred_seq.append(\"\".join(seq))\n",
    "    return pred_seq\n",
    "predict_result(jnp.empty(input_shape, dtype=jnp.uint8))\n",
    "print(f\"Compile complete! Use time: {time.time() - start_time:.2f} s\")"
   ]
  },
  {
   "cell_type": "code",
   "execution_count": 38,
   "id": "2af60a69",
   "metadata": {},
   "outputs": [
    {
     "name": "stdout",
     "output_type": "stream",
     "text": [
      "(1, 32, 100, 1)\n",
      "['pontifically']\n"
     ]
    },
    {
     "data": {
      "image/png": "[encoded data removed]",
      "text/plain": [
       "<Figure size 640x480 with 1 Axes>"
      ]
     },
     "metadata": {},
     "output_type": "display_data"
    }
   ],
   "source": [
    "from PIL import Image\n",
    "x = jnp.array(Image.open(r\"/home/wty/Coding/datasets/mjsynth/1/1/1_pontifically_58805.jpg\").convert(\"L\").resize((100,32)))[None, ..., None]\n",
    "import matplotlib.pyplot as plt\n",
    "plt.imshow(x[0], cmap='gray')\n",
    "print(x.shape)\n",
    "print(predict_result(x))"
   ]
  },
  {
   "cell_type": "code",
   "execution_count": 46,
   "id": "ccc0a604",
   "metadata": {},
   "outputs": [
    {
     "data": {
      "application/vnd.jupyter.widget-view+json": {
       "model_id": "1f64476c9f06477daef09824c8ed69da",
       "version_major": 2,
       "version_minor": 0
      },
      "text/plain": [
       "HBox(children=(FileUpload(value=(), description='上传图片'), Text(value='模型/识别用时：')))"
      ]
     },
     "metadata": {},
     "output_type": "display_data"
    },
    {
     "data": {
      "application/vnd.jupyter.widget-view+json": {
       "model_id": "939533197e614a7395c1bee87e9dc0ab",
       "version_major": 2,
       "version_minor": 0
      },
      "text/plain": [
       "Output()"
      ]
     },
     "metadata": {},
     "output_type": "display_data"
    }
   ],
   "source": [
    "import io, time\n",
    "import ipywidgets as widgets\n",
    "from IPython.display import display, clear_output\n",
    "from PIL import Image, ImageEnhance\n",
    "import numpy as np\n",
    "import matplotlib.pyplot as plt\n",
    "\n",
    "upload_button = widgets.FileUpload(description=\"上传图片\")\n",
    "aux_output = widgets.Text(\"模型/识别用时：\")\n",
    "\n",
    "# 显示图片和调整亮度、对比度的函数\n",
    "def show_image(upload):\n",
    "    if upload:\n",
    "        uploaded_file = upload[0]\n",
    "        origin_image = Image.open(io.BytesIO(uploaded_file['content'])).convert('L')\n",
    "        resize_image = origin_image.resize((100,32))\n",
    "        x = jnp.array(resize_image)[None,...,None].astype('uint8')\n",
    "        start_time = time.time()\n",
    "        pred_result = predict_result(x)[0]\n",
    "        print(\"Predict result:\", pred_result)\n",
    "        aux_output.value = f\"模型用时：{time.time() - start_time:.4f} s\"\n",
    "        \n",
    "        fig, ax = plt.subplots(figsize=(8,3))\n",
    "        ax.imshow(origin_image, cmap='gray')\n",
    "        plt.show()\n",
    "\n",
    "interactive_output = widgets.interactive_output(\n",
    "    show_image,\n",
    "    {\n",
    "        \"upload\": upload_button,\n",
    "    }\n",
    ")\n",
    "\n",
    "display(widgets.HBox([upload_button, aux_output]), interactive_output)\n"
   ]
  },
  {
   "cell_type": "code",
   "execution_count": null,
   "id": "fbb84f25",
   "metadata": {},
   "outputs": [],
   "source": []
  }
 ],
 "metadata": {
  "kernelspec": {
   "display_name": "Python 3 (ipykernel)",
   "language": "python",
   "name": "python3"
  },
  "language_info": {
   "codemirror_mode": {
    "name": "ipython",
    "version": 3
   },
   "file_extension": ".py",
   "mimetype": "text/x-python",
   "name": "python",
   "nbconvert_exporter": "python",
   "pygments_lexer": "ipython3",
   "version": "3.11.4"
  }
 },
 "nbformat": 4,
 "nbformat_minor": 5
}
