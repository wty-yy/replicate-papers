{
 "cells": [
  {
   "cell_type": "code",
   "execution_count": 4,
   "id": "72a33f84",
   "metadata": {},
   "outputs": [],
   "source": [
    "import sys\n",
    "from pathlib import Path\n",
    "sys.path.append(str(Path.cwd().parent))\n",
    "\n",
    "from katacv.utils.related_pkgs.utility import *\n",
    "from katacv.utils.related_pkgs.jax_flax_optax_orbax import *\n",
    "from katacv.yolov1.yolov1_pretrain import get_pretrain_state"
   ]
  },
  {
   "cell_type": "code",
   "execution_count": 9,
   "id": "69d8ed1d",
   "metadata": {},
   "outputs": [
    {
     "name": "stdout",
     "output_type": "stream",
     "text": [
      "Loading state...\n",
      "Read weights successfully!\n"
     ]
    }
   ],
   "source": [
    "print(\"Loading state...\")\n",
    "state = get_pretrain_state()\n",
    "path = \"/home/wty/Coding/models/YOLOv1PreTrain/YOLOv1PreTrain-0022-lite\"  # YOLOv1PreTrain lite weights folder\n",
    "weights = ocp.PyTreeCheckpointer().restore(path)\n",
    "state = state.replace(params=weights['params'], batch_stats=weights['batch_stats'])\n",
    "print(\"Read weights successfully!\")"
   ]
  },
  {
   "cell_type": "code",
   "execution_count": 10,
   "id": "e954c1bc",
   "metadata": {
    "scrolled": false
   },
   "outputs": [
    {
     "name": "stderr",
     "output_type": "stream",
     "text": [
      "Using region  server backend.\n",
      "\n"
     ]
    },
    {
     "data": {
      "application/vnd.jupyter.widget-view+json": {
       "model_id": "a5681c352a6a4ba8a0d00a5e15838146",
       "version_major": 2,
       "version_minor": 0
      },
      "text/plain": [
       "VBox(children=(HBox(children=(FileUpload(value=(), description='上传图片', multiple=True), Output())), Output()))"
      ]
     },
     "execution_count": 10,
     "metadata": {},
     "output_type": "execute_result"
    }
   ],
   "source": [
    "import translators.server as ts\n",
    "import ipywidgets as widgets\n",
    "from IPython.display import display, clear_output, HTML\n",
    "from PIL import Image\n",
    "import numpy as np, io\n",
    "from katacv.utils.imagenet.label2readable import label2readable\n",
    "import time, base64\n",
    "\n",
    "upload_button = widgets.FileUpload(description=\"上传图片\", multiple=True)\n",
    "output = widgets.Output()\n",
    "pred_output = widgets.Output()\n",
    "\n",
    "def display_html(text, base64_image):\n",
    "    html_str = f\"<div style='display:flex; align-items:center;'>\"\n",
    "    html_str += f\"<div style='flex: 0.8; '>{text}</div>\"\n",
    "    html_str += f\"<img src='data:image/png;base64,{base64_image}' style='height: 200px; margin-left: 5px;'>\"\n",
    "    html_str += \"</div>\"\n",
    "    display(HTML(html_str))\n",
    "\n",
    "def handle_upload(change):\n",
    "    with output:\n",
    "        clear_output()\n",
    "        uploaded_files = upload_button.value\n",
    "        if uploaded_files:\n",
    "            for i, uploaded_file in enumerate(uploaded_files):\n",
    "                img = Image.open(io.BytesIO(uploaded_file['content'])).convert('RGB')\n",
    "                matrix = np.expand_dims(np.array(img.resize((224,224))), 0)\n",
    "                text = f\"图片 {i+1}\"\n",
    "                start_time = time.time()\n",
    "                logit = state.apply_fn(\n",
    "                    {'params': state.params, 'batch_stats': state.batch_stats},\n",
    "                    matrix, train=False\n",
    "                )[0]\n",
    "                text += f\" 预测用时 {time.time() - start_time:.2f}s\"\n",
    "                proba = jax.nn.softmax(jax.device_get(logit))\n",
    "                top5_idxs = np.argsort(proba)[::-1][:5]\n",
    "                for i in range(5):\n",
    "                    idx = int(top5_idxs[i])\n",
    "                    name = label2readable[idx]\n",
    "                    p = proba[idx]\n",
    "                    text += f\"</br>pred{i+1}: {p*100:.2f}% {name, ts.baidu(name, to_language='cn')}\"\n",
    "                # html_str = \"<font color='white'>\" + html_str + \"</font>\"\n",
    "                \n",
    "                base64_image = base64.b64encode(uploaded_file['content']).decode('utf-8')\n",
    "                display_html(text, base64_image)\n",
    "                # display(HTML(html_str))\n",
    "                # display(widgets.HTML(html_str))\n",
    "                # display(img)\n",
    "        else:\n",
    "            print(\"请上传一张图片\")\n",
    "# 绑定上传按钮的事件处理函数\n",
    "upload_button.observe(handle_upload, names='value')\n",
    "\n",
    "# 显示上传按钮和输出区域\n",
    "line1 = widgets.HBox([upload_button, pred_output])\n",
    "widgets.VBox([line1, output])"
   ]
  },
  {
   "cell_type": "code",
   "execution_count": null,
   "id": "b1a04bd7",
   "metadata": {},
   "outputs": [],
   "source": []
  }
 ],
 "metadata": {
  "kernelspec": {
   "display_name": "Python 3 (ipykernel)",
   "language": "python",
   "name": "python3"
  },
  "language_info": {
   "codemirror_mode": {
    "name": "ipython",
    "version": 3
   },
   "file_extension": ".py",
   "mimetype": "text/x-python",
   "name": "python",
   "nbconvert_exporter": "python",
   "pygments_lexer": "ipython3",
   "version": "3.11.4"
  }
 },
 "nbformat": 4,
 "nbformat_minor": 5
}
