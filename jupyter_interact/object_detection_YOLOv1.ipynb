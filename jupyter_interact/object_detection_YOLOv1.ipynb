{
 "cells": [
  {
   "cell_type": "code",
   "execution_count": 2,
   "id": "99764e8f",
   "metadata": {},
   "outputs": [],
   "source": [
    "import sys\n",
    "from pathlib import Path\n",
    "sys.path.append(str(Path.cwd().parent))"
   ]
  },
  {
   "cell_type": "code",
   "execution_count": 5,
   "id": "044fd603",
   "metadata": {},
   "outputs": [],
   "source": [
    "from katacv.utils.related_pkgs.jax_flax_optax_orbax import *\n",
    "from katacv.yolov1.yolov1 import get_yolov1_state\n",
    "\n",
    "state = get_yolov1_state()\n",
    "# weights = ocp.PyTreeCheckpointer().restore(\"/home/wty/Coding/models/YOLOv1/YOLOv1-0080-lite\")\n",
    "weights = ocp.PyTreeCheckpointer().restore(\"/home/yy/Coding/modelsets/YOLOv1/YOLOv1-0080-lite\")\n",
    "state = state.replace(params=weights['params'], batch_stats=weights['batch_stats'])"
   ]
  },
  {
   "cell_type": "code",
   "execution_count": 6,
   "id": "75dbe147",
   "metadata": {},
   "outputs": [],
   "source": [
    "@jax.jit\n",
    "def predict(x):\n",
    "    proba, boxes = state.apply_fn(\n",
    "        {'params': state.params, 'batch_stats': state.batch_stats},\n",
    "        x, train=False\n",
    "    )\n",
    "    return jax.device_get(proba), jax.device_get(boxes)"
   ]
  },
  {
   "cell_type": "code",
   "execution_count": 17,
   "id": "ccc0a604",
   "metadata": {},
   "outputs": [
    {
     "data": {
      "application/vnd.jupyter.widget-view+json": {
       "model_id": "3ad2b6b28fa24a5397bd0cf147d2f3cc",
       "version_major": 2,
       "version_minor": 0
      },
      "text/plain": [
       "HBox(children=(FileUpload(value=(), description='上传图片'), FloatSlider(value=0.4, description='IOU阈值 (NMS)', max…"
      ]
     },
     "metadata": {},
     "output_type": "display_data"
    },
    {
     "data": {
      "application/vnd.jupyter.widget-view+json": {
       "model_id": "c21c34ad7e4b4175a9c341c4a5f3eb5e",
       "version_major": 2,
       "version_minor": 0
      },
      "text/plain": [
       "Output()"
      ]
     },
     "metadata": {},
     "output_type": "display_data"
    }
   ],
   "source": [
    "import io, time\n",
    "import ipywidgets as widgets\n",
    "from IPython.display import display, clear_output\n",
    "from PIL import Image, ImageEnhance\n",
    "import numpy as np\n",
    "import matplotlib.pyplot as plt\n",
    "from katacv.utils.detection import get_best_boxes_and_classes, nms, plot_box\n",
    "from katacv.utils.VOC.label2realname import label2realname\n",
    "\n",
    "upload_button = widgets.FileUpload(description=\"上传图片\")\n",
    "iou_slider = widgets.FloatSlider(description=\"IOU阈值 (NMS)\", min=0.0, max=1.0, step=0.01, value=0.4)\n",
    "conf_slider = widgets.FloatSlider(description=\"最低置信度阈值\", min=-0.5, max=2.0, step=0.01, value=0.2)\n",
    "aux_output = widgets.Text(\"模型/识别用时：\")\n",
    "\n",
    "# @jax.jit  # optimizer use jit\n",
    "def NMS(proba, boxes, iou_threshold, conf_threshold):\n",
    "    cells = jnp.concatenate([proba, boxes], -1)\n",
    "    boxes = get_best_boxes_and_classes(cells, S=7, B=2, C=20)[0]\n",
    "    boxes = nms(boxes, iou_threshold=iou_threshold, conf_threshold=conf_threshold)\n",
    "    return boxes\n",
    "\n",
    "# 显示图片和调整亮度、对比度的函数\n",
    "def show_image(upload, iou_threshold, conf_threshold):\n",
    "    if upload:\n",
    "        uploaded_file = upload[0]\n",
    "        origin_image = Image.open(io.BytesIO(uploaded_file['content'])).convert('RGB')\n",
    "        resize_image = origin_image.resize((448,448))\n",
    "        x = np.expand_dims(np.array(resize_image), 0)\n",
    "        start_time = time.time()\n",
    "        \n",
    "        proba, boxes = predict(x)\n",
    "        aux_output.value = f\"模型用时：{time.time() - start_time:.4f} s\"\n",
    "        # cells = jnp.concatenate([proba, boxes], -1)\n",
    "        # boxes = get_best_boxes_and_classes(cells, S=7, B=2, C=20)[0]\n",
    "        # boxes = nms(boxes, iou_threshold=iou_threshold, conf_threshold=conf_threshold)\n",
    "        boxes = NMS(proba, boxes, iou_threshold, conf_threshold)\n",
    "        \n",
    "        aux_output.value += f\" 识别用时：{time.time() - start_time:.4f} s\"\n",
    "        \n",
    "        fig, ax = plt.subplots(figsize=(15,8))\n",
    "        ax.imshow(origin_image)\n",
    "        for i in range(boxes.shape[0]):\n",
    "            plot_box(ax, origin_image.size[::-1], boxes[i,1:5], text=f\"{label2realname[int(boxes[i,5])]} {float(boxes[i,0]):.2f}\")\n",
    "        plt.show()\n",
    "        # display(img)\n",
    "\n",
    "interactive_output = widgets.interactive_output(\n",
    "    show_image,\n",
    "    {\n",
    "        \"upload\": upload_button,\n",
    "        \"iou_threshold\": iou_slider, \n",
    "        \"conf_threshold\": conf_slider,\n",
    "    }\n",
    ")\n",
    "\n",
    "display(widgets.HBox([upload_button, iou_slider, conf_slider, aux_output]), interactive_output)\n"
   ]
  },
  {
   "cell_type": "code",
   "execution_count": null,
   "id": "7dd660a9",
   "metadata": {},
   "outputs": [],
   "source": []
  }
 ],
 "metadata": {
  "kernelspec": {
   "display_name": "Python 3 (ipykernel)",
   "language": "python",
   "name": "python3"
  },
  "language_info": {
   "codemirror_mode": {
    "name": "ipython",
    "version": 3
   },
   "file_extension": ".py",
   "mimetype": "text/x-python",
   "name": "python",
   "nbconvert_exporter": "python",
   "pygments_lexer": "ipython3",
   "version": "3.11.5"
  }
 },
 "nbformat": 4,
 "nbformat_minor": 5
}
