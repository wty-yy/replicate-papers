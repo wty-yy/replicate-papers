{
 "cells": [
  {
   "cell_type": "code",
   "execution_count": 85,
   "id": "99764e8f",
   "metadata": {},
   "outputs": [],
   "source": [
    "import sys\n",
    "from pathlib import Path\n",
    "sys.path.append(str(Path.cwd().parent.parent))"
   ]
  },
  {
   "cell_type": "code",
   "execution_count": 86,
   "id": "044fd603",
   "metadata": {},
   "outputs": [
    {
     "name": "stdout",
     "output_type": "stream",
     "text": [
      "dict_keys(['batch_stats', 'opt_state', 'params', 'step'])\n"
     ]
    }
   ],
   "source": [
    "from katacv.utils.related_pkgs.jax_flax_optax_orbax import *\n",
    "from katacv.yolov3.yolov3 import get_args_and_writer\n",
    "from katacv.yolov3.yolov3_model import get_yolov3_state\n",
    "\n",
    "class Args:\n",
    "    B = 3\n",
    "    C = 20\n",
    "    seed = 0\n",
    "    input_shape = (1,416,416,3)\n",
    "    learning_rate = 1e-4\n",
    "    anchors = [\n",
    "        (0.02, 0.03), (0.04, 0.07), (0.08, 0.06),  # (10, 13), (16, 30), (33, 23),  # in 416x416\n",
    "        (0.07, 0.15), (0.15, 0.11), (0.14, 0.29),  # (30, 61), (62, 45), (59, 119),\n",
    "        (0.28, 0.22), (0.38, 0.48), (0.90, 0.78),  # (116, 90), (156, 198), (373, 326)\n",
    "    ]\n",
    "    \n",
    "\n",
    "args = Args()\n",
    "state = get_yolov3_state(args)\n",
    "# weights = ocp.PyTreeCheckpointer().restore(\"/home/wty/Coding/models/YOLOv3/YOLOv3-PASCAL-0050-lite\")\n",
    "weights = ocp.PyTreeCheckpointer().restore(\"/home/wty/Coding/models/YOLOv3/YOLOv3-test-0020-lite\")\n",
    "print(weights.keys())\n",
    "# weights = ocp.PyTreeCheckpointer().restore(\"/home/yy/Coding/models/YOLOv1/YOLOv1-0080-lite\")\n",
    "state = state.replace(params=weights['params'], batch_stats=weights['batch_stats'])"
   ]
  },
  {
   "cell_type": "code",
   "execution_count": 87,
   "id": "a99a413c",
   "metadata": {},
   "outputs": [],
   "source": [
    "from katacv.yolov3.yolov3 import TrainState\n",
    "from katacv.utils.detection import slice_by_idxs, cvt_coord_cell2image\n",
    "\n",
    "@partial(jax.jit, static_argnames=['B'])\n",
    "def predict(state: TrainState, x, anchors, B=3):\n",
    "    logits = state.apply_fn(\n",
    "        {'params': state.params, 'batch_stats': state.batch_stats},\n",
    "        x, train=False\n",
    "    )\n",
    "    @partial(jax.jit, static_argnames=['S'])\n",
    "    def convert_coord2image(logits, anchors, S):\n",
    "        N = logits.shape[0]\n",
    "        ret = []\n",
    "        for k in range(B):\n",
    "            now = logits[:,:,:,k,:]  # (N,B,B,5+C)\n",
    "            xy = cvt_coord_cell2image(jax.nn.sigmoid(now[...,1:3]))  # (N,B,B,2)\n",
    "            w = jnp.exp(now[...,3:4]) * anchors[k][0]  # (N,B,B,1)\n",
    "            h = jnp.exp(now[...,4:5]) * anchors[k][1]  # (N,B,B,1)\n",
    "            cls = jnp.argmax(jax.nn.softmax(now[...,5:]), -1, keepdims=True)  # (N,B,B,1)\n",
    "            c = jax.nn.sigmoid(now[...,0:1]) * jnp.max(jax.nn.softmax(now[...,5:]), -1, keepdims=True)  # (N,B,B,1)\n",
    "            # c = jax.nn.sigmoid(now[...,0:1])  # (N,B,B,1)\n",
    "            # print(c.shape, xy.shape, w.shape, h.shape, cls.shape)\n",
    "            ret.append(jnp.concatenate([c,xy,w,h,cls], -1).reshape(N, S*S, 6))\n",
    "        return jnp.array(ret).reshape(N, S*S, B, 6)\n",
    "        return ret\n",
    "\n",
    "    def get_best_box_in_cell(y):  # (N,S*S,B,6)\n",
    "        idxs = jnp.argmax(y[...,0], -1)\n",
    "        best_boxes = slice_by_idxs(y.reshape(*y.shape[:-2], -1), idxs * 6, 6)\n",
    "        return best_boxes  # (N,S*S,6)\n",
    "\n",
    "    best_boxes = []\n",
    "    for i in range(len(logits)):\n",
    "        pred = convert_coord2image(logits[i], anchors[i*B:(i+1)*B], logits[i].shape[1])\n",
    "        best_boxes.append(get_best_box_in_cell(pred))\n",
    "    best_boxes = jnp.concatenate(best_boxes, 1)\n",
    "    return best_boxes"
   ]
  },
  {
   "cell_type": "code",
   "execution_count": 88,
   "id": "099dfa35",
   "metadata": {},
   "outputs": [
    {
     "name": "stdout",
     "output_type": "stream",
     "text": [
      "XLA compile...\n",
      "Compile complete! Use time: 3.16 s\n"
     ]
    }
   ],
   "source": [
    "import time\n",
    "start_time = time.time()\n",
    "print(\"XLA compile...\")\n",
    "boxes = predict(state, jnp.empty((1,416,416,3), dtype='uint8'), args.anchors)\n",
    "print(f\"Compile complete! Use time: {time.time() - start_time:.2f} s\")"
   ]
  },
  {
   "cell_type": "code",
   "execution_count": null,
   "id": "0ed98fde",
   "metadata": {},
   "outputs": [],
   "source": [
    "from katacv.utils.VOC.build_dataset_yolov3 import DatasetBuilder\n"
   ]
  },
  {
   "cell_type": "code",
   "execution_count": 82,
   "id": "afb7bd62",
   "metadata": {},
   "outputs": [
    {
     "data": {
      "text/plain": [
       "(1, 3549, 6)"
      ]
     },
     "execution_count": 82,
     "metadata": {},
     "output_type": "execute_result"
    }
   ],
   "source": [
    "boxes.shape"
   ]
  },
  {
   "cell_type": "code",
   "execution_count": 90,
   "id": "09c0f563",
   "metadata": {},
   "outputs": [
    {
     "name": "stdout",
     "output_type": "stream",
     "text": [
      "[0.09618747 0.07229392 0.06658299 ... 0.025      0.025      0.025     ]\n"
     ]
    }
   ],
   "source": [
    "from PIL import Image\n",
    "x = jnp.array(Image.open(r\"/home/wty/Pictures/model_test/test_image/8examples/000007.jpg\").resize((416,416)))[None, ...]\n",
    "import matplotlib.pyplot as plt\n",
    "# plt.imshow(x[0])\n",
    "# print(x.shape)\n",
    "boxes = predict(state, x, args.anchors)[0]\n",
    "print(jnp.sort(boxes[:,0])[::-1])\n",
    "nms_boxes = nms"
   ]
  },
  {
   "cell_type": "code",
   "execution_count": 91,
   "id": "ccc0a604",
   "metadata": {},
   "outputs": [
    {
     "data": {
      "application/vnd.jupyter.widget-view+json": {
       "model_id": "2464efeadedb42479b1f0bedbc1cb9db",
       "version_major": 2,
       "version_minor": 0
      },
      "text/plain": [
       "HBox(children=(FileUpload(value=(), description='上传图片'), FloatSlider(value=0.3, description='IOU阈值 (NMS)', max…"
      ]
     },
     "metadata": {},
     "output_type": "display_data"
    },
    {
     "data": {
      "application/vnd.jupyter.widget-view+json": {
       "model_id": "6f6dd941b98f42dd959d7d89c13bdaff",
       "version_major": 2,
       "version_minor": 0
      },
      "text/plain": [
       "Output()"
      ]
     },
     "metadata": {},
     "output_type": "display_data"
    }
   ],
   "source": [
    "import io, time\n",
    "import ipywidgets as widgets\n",
    "from IPython.display import display, clear_output\n",
    "from PIL import Image, ImageEnhance\n",
    "import numpy as np\n",
    "import matplotlib.pyplot as plt\n",
    "from katacv.utils.detection import nms, plot_box, iou, slice_by_idxs, cvt_coord_cell2image, get_best_boxes_and_classes\n",
    "from katacv.utils.VOC.label2realname import label2realname\n",
    "label2realname = label2realname['PASCAL']\n",
    "\n",
    "upload_button = widgets.FileUpload(description=\"上传图片\")\n",
    "iou_slider = widgets.FloatSlider(description=\"IOU阈值 (NMS)\", min=0.0, max=1.0, step=0.01, value=0.3)\n",
    "conf_slider = widgets.FloatSlider(description=\"最低置信度阈值\", min=-0.5, max=2.0, step=0.01, value=0.1)\n",
    "aux_output = widgets.Text(\"模型/识别用时：\")\n",
    "\n",
    "# @jax.jit  # optimizer use jit\n",
    "def NMS(proba, boxes, iou_threshold, conf_threshold):\n",
    "    start_time = time.time()\n",
    "    cells = jnp.concatenate([proba, boxes], -1)\n",
    "    # boxes = jax.jit(get_best_boxes_and_classes, static_argnums=[1,2])(cells, B=2, C=20)[0]\n",
    "    boxes = get_best_boxes_and_classes(cells, B=2, C=20)[0]\n",
    "    print(\"get boxes time:\", time.time() - start_time)\n",
    "    start_time = time.time()\n",
    "    boxes = nms(boxes, iou_threshold=iou_threshold, conf_threshold=conf_threshold)\n",
    "    print(\"nms time:\", time.time() - start_time)\n",
    "    return boxes\n",
    "\n",
    "# 显示图片和调整亮度、对比度的函数\n",
    "def show_image(upload, iou_threshold, conf_threshold):\n",
    "    if upload:\n",
    "        uploaded_file = upload[0]\n",
    "        origin_image = Image.open(io.BytesIO(uploaded_file['content'])).convert('RGB')\n",
    "        resize_image = origin_image.resize((416,416))\n",
    "        # x = np.expand_dims(np.array(resize_image), 0)\n",
    "        x = jnp.expand_dims(jnp.array(resize_image), 0).astype('float32')\n",
    "        start_time = time.time()\n",
    "        \n",
    "        boxes = predict(state, x, args.anchors)[0]\n",
    "        aux_output.value = f\"模型用时：{time.time() - start_time:.4f} s\"\n",
    "        \n",
    "        print(\"confidence:\", jnp.sort(boxes[:,0])[::-1])\n",
    "        boxes = nms(boxes, iou_threshold, conf_threshold)\n",
    "        # boxes = NMS(proba, boxes, iou_threshold, conf_threshold)\n",
    "        \n",
    "        aux_output.value += f\" 识别总用时：{time.time() - start_time:.4f} s\"\n",
    "        \n",
    "        print(boxes.shape)\n",
    "        fig, ax = plt.subplots(figsize=(15,8))\n",
    "        ax.imshow(origin_image)\n",
    "        for i in range(boxes.shape[0]):\n",
    "            plot_box(ax, origin_image.size[::-1], boxes[i,1:5], text=f\"{label2realname[int(boxes[i,5])]} {float(boxes[i,0]):.2f}\")\n",
    "        plt.show()\n",
    "        # display(img)\n",
    "\n",
    "interactive_output = widgets.interactive_output(\n",
    "    show_image,\n",
    "    {\n",
    "        \"upload\": upload_button,\n",
    "        \"iou_threshold\": iou_slider, \n",
    "        \"conf_threshold\": conf_slider,\n",
    "    }\n",
    ")\n",
    "\n",
    "display(widgets.HBox([upload_button, iou_slider, conf_slider, aux_output]), interactive_output)\n"
   ]
  },
  {
   "cell_type": "code",
   "execution_count": null,
   "id": "fbb84f25",
   "metadata": {},
   "outputs": [],
   "source": []
  }
 ],
 "metadata": {
  "kernelspec": {
   "display_name": "Python 3 (ipykernel)",
   "language": "python",
   "name": "python3"
  },
  "language_info": {
   "codemirror_mode": {
    "name": "ipython",
    "version": 3
   },
   "file_extension": ".py",
   "mimetype": "text/x-python",
   "name": "python",
   "nbconvert_exporter": "python",
   "pygments_lexer": "ipython3",
   "version": "3.11.4"
  }
 },
 "nbformat": 4,
 "nbformat_minor": 5
}
