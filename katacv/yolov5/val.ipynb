{
 "cells": [
  {
   "cell_type": "code",
   "execution_count": null,
   "metadata": {},
   "outputs": [],
   "source": [
    "import os, sys\n",
    "from pathlib import Path\n",
    "root_path = Path.cwd().parents[1]\n",
    "if str(root_path) not in sys.path:\n",
    "  sys.path.append(str(root_path))\n",
    "print(f\"{root_path=}\")"
   ]
  },
  {
   "cell_type": "code",
   "execution_count": null,
   "metadata": {},
   "outputs": [],
   "source": [
    "from katacv.yolov5.parser import get_args_and_writer\n",
    "from katacv.yolov5.model import get_state\n",
    "from katacv.utils.model_weights import load_weights\n",
    "\n",
    "args = get_args_and_writer(no_writer=True, input_args=\"\")\n",
    "args.path_logs = root_path / \"logs\"\n",
    "args.path_cp = args.path_logs / \"YOLOv5-checkpoints\"\n",
    "args.load_id = 43\n",
    "state_ok = load_weights(get_state(args, use_init=False), args)\n",
    "args.load_id = 42\n",
    "state_bad = load_weights(get_state(args, use_init=False), args)"
   ]
  },
  {
   "cell_type": "code",
   "execution_count": null,
   "metadata": {},
   "outputs": [],
   "source": [
    "from PIL import Image\n",
    "import numpy as np\n",
    "img = []\n",
    "for p in Path(\"/home/wty/Pictures/model_test/test_image/8examples\").glob('*.jpg'):\n",
    "  img.append(np.array(Image.open(str(p)).resize((640,640)).convert(\"RGB\")))\n",
    "img = np.array(img)\n",
    "print(f\"{len(img)=}, {img.dtype=}\")"
   ]
  },
  {
   "cell_type": "code",
   "execution_count": null,
   "metadata": {},
   "outputs": [],
   "source": [
    "%load_ext autoreload\n",
    "%autoreload 2\n",
    "from katacv.yolov5.predict import Predictor\n",
    "from katacv.utils.yolo.utils import show_box\n",
    "predict_ok = Predictor(args, state_ok)\n",
    "predict_bad = Predictor(args, state_bad)"
   ]
  },
  {
   "cell_type": "code",
   "execution_count": null,
   "metadata": {},
   "outputs": [],
   "source": [
    "for i in range(len(img)):\n",
    "  x = img[i:i+1].astype(np.float32) / 255.\n",
    "  pbox = predict_bad.update(x, nms_iou=0.65, nms_conf=0.01)\n",
    "  show_box(x[0], pbox[0])"
   ]
  },
  {
   "cell_type": "code",
   "execution_count": null,
   "metadata": {},
   "outputs": [],
   "source": [
    "from katacv.utils.yolo.build_dataset import DatasetBuilder\n",
    "args.path_dataset = Path(\"/home/wty/Coding/datasets/coco\")\n",
    "args.batch_size = 1\n",
    "ds_builder = DatasetBuilder(args)\n",
    "train_ds = ds_builder.get_dataset(subset='train', use_cache=False)\n",
    "val_ds = ds_builder.get_dataset(subset='val', use_cache=False)"
   ]
  },
  {
   "cell_type": "code",
   "execution_count": null,
   "metadata": {},
   "outputs": [],
   "source": [
    "iter_ds = iter(train_ds)\n",
    "x = next(iter_ds)[0].numpy().astype(np.float32) / 255.\n",
    "pbox = predict_ok.update(x, nms_conf=0.01)\n",
    "show_box(x[0], pbox[0])\n",
    "pbox = predict_bad.update(x, nms_conf=0.01)\n",
    "show_box(x[0], pbox[0])"
   ]
  },
  {
   "cell_type": "code",
   "execution_count": null,
   "metadata": {},
   "outputs": [],
   "source": [
    "from katacv.utils.related_pkgs.jax_flax_optax_orbax import *\n",
    "from katacv.yolov5.loss import cell2pixel\n",
    "@jax.jit\n",
    "def predict(state: train_state.TrainState, x: jnp.ndarray):\n",
    "  logits = state.apply_fn(\n",
    "    {'params': state.params, 'batch_stats': state.batch_stats},\n",
    "    x, train=False\n",
    "  )\n",
    "  y, batch_size = [], x.shape[0]\n",
    "  for i in range(3):\n",
    "    xy = (jax.nn.sigmoid(logits[i][...,:2]) - 0.5) * 2.0 + 0.5\n",
    "    xy = cell2pixel(xy, scale=2**(i+3))\n",
    "    wh = (jax.nn.sigmoid(logits[i][...,2:4]) * 2) ** 2 * args.anchors[i].reshape(1,3,1,1,2)\n",
    "    conf = jax.nn.sigmoid(logits[i][...,4:5])\n",
    "    cls = jax.nn.sigmoid(logits[i][...,5:])\n",
    "    conf = conf * jnp.max(cls, axis=-1, keepdims=True)\n",
    "    cls = jnp.argmax(cls, axis=-1, keepdims=True)\n",
    "    y.append(jnp.concatenate([xy,wh,conf,cls], -1).reshape(batch_size,-1,6))\n",
    "  y = jnp.concatenate(y, 1)  # shape=(batch_size,all_pbox_num,6)\n",
    "  return y\n",
    "p_ok = jax.device_get(predict(state_ok, x))\n",
    "p_bad = jax.device_get(predict(state_bad, x))"
   ]
  },
  {
   "cell_type": "code",
   "execution_count": null,
   "metadata": {},
   "outputs": [],
   "source": [
    "np.sort(p_bad[0][:,4])[::-1]"
   ]
  },
  {
   "cell_type": "code",
   "execution_count": null,
   "metadata": {},
   "outputs": [],
   "source": [
    "np.sort(p_ok[0][:,4])[::-1]"
   ]
  },
  {
   "cell_type": "code",
   "execution_count": null,
   "metadata": {},
   "outputs": [],
   "source": [
    "pbox = predict_ok.update(x)\n",
    "print(pbox)"
   ]
  },
  {
   "cell_type": "code",
   "execution_count": null,
   "metadata": {},
   "outputs": [],
   "source": [
    "show_box(x[0], pbox[0])"
   ]
  },
  {
   "cell_type": "code",
   "execution_count": null,
   "metadata": {},
   "outputs": [],
   "source": [
    "pbox[0]"
   ]
  },
  {
   "cell_type": "code",
   "execution_count": null,
   "metadata": {},
   "outputs": [],
   "source": []
  }
 ],
 "metadata": {
  "kernelspec": {
   "display_name": "jax",
   "language": "python",
   "name": "python3"
  },
  "language_info": {
   "codemirror_mode": {
    "name": "ipython",
    "version": 3
   },
   "file_extension": ".py",
   "mimetype": "text/x-python",
   "name": "python",
   "nbconvert_exporter": "python",
   "pygments_lexer": "ipython3",
   "version": "3.11.6"
  },
  "orig_nbformat": 4
 },
 "nbformat": 4,
 "nbformat_minor": 2
}
