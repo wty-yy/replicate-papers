{
 "cells": [
  {
   "cell_type": "code",
   "execution_count": null,
   "id": "7169c101",
   "metadata": {},
   "outputs": [],
   "source": [
    "import sys\n",
    "from pathlib import Path\n",
    "sys.path.append(str(Path.cwd().parent.parent))"
   ]
  },
  {
   "cell_type": "code",
   "execution_count": null,
   "id": "c7b3f586",
   "metadata": {},
   "outputs": [],
   "source": [
    "from katacv.utils.related_pkgs.jax_flax_optax_orbax import *\n",
    "from katacv.utils.related_pkgs.utility import *\n",
    "from katacv.G_VAE.parser import get_args_and_writer\n",
    "args = get_args_and_writer(no_writer=True, input_args=[], model_name='G-VAE', dataset_name='celeba')\n",
    "from katacv.G_VAE.model import get_g_vae_model_state, get_decoder_state\n",
    "g_vae_state = get_g_vae_model_state(args)\n",
    "g_vae_decoder_state = get_decoder_state(args)\n",
    "print(\"Successfully initialze model state!\")"
   ]
  },
  {
   "cell_type": "code",
   "execution_count": null,
   "id": "6b46ff46",
   "metadata": {},
   "outputs": [],
   "source": [
    "path_weights = \"/home/wty/Coding/models/G-VAE/celeba/G-VAE2048-0010-lite\"\n",
    "weights = ocp.PyTreeCheckpointer().restore(path_weights)\n",
    "g_vae_state = g_vae_state.replace(params=weights['params'], batch_stats=weights['batch_stats'])\n",
    "g_vae_decoder_state = g_vae_decoder_state.replace(params=weights['params']['Decoder_0'], batch_stats=weights['batch_stats']['Decoder_0'])\n",
    "print(\"Successfully load model weights.\")"
   ]
  },
  {
   "cell_type": "code",
   "execution_count": null,
   "id": "381ea9d2",
   "metadata": {},
   "outputs": [],
   "source": [
    "from katacv.utils.celeba.build_dataset import DatasetBuilder\n",
    "args.path_dataset = Path(\"/home/wty/Coding/datasets/celeba/\")\n",
    "ds_builer = DatasetBuilder(args)\n",
    "ds_train, ds_train_size = ds_builer.get_dataset(subset='train', repeat=1, shuffle=False, use_aug=False)\n",
    "ds_val, ds_val_size = ds_builer.get_dataset(subset='val', repeat=1, shuffle=False, use_aug=False)\n",
    "print(\"Succesfully build dataset!\")"
   ]
  },
  {
   "cell_type": "code",
   "execution_count": null,
   "id": "d4941938",
   "metadata": {},
   "outputs": [],
   "source": [
    "@jax.jit\n",
    "def predict(state, x):\n",
    "    return state.apply_fn(\n",
    "        {'params': state.params, 'batch_stats': state.batch_stats},\n",
    "        x, train=False\n",
    "    )\n",
    "\n",
    "def decoder_predict(decoder_state, z):\n",
    "    aug = jax.device_get(predict(decoder_state, z))\n",
    "    aug = (aug - aug.min()) / (aug.max() - aug.min())\n",
    "    return aug\n",
    "\n",
    "predict(g_vae_state, jnp.empty(args.input_shape, dtype=jnp.float32))\n",
    "decoder_predict(g_vae_decoder_state, jnp.empty((args.batch_size, args.feature_size), dtype=jnp.float32))\n",
    "print(\"Complete compiled!\")"
   ]
  },
  {
   "cell_type": "code",
   "execution_count": null,
   "id": "4eef5c39",
   "metadata": {},
   "outputs": [],
   "source": [
    "# Get average sigma\n",
    "from tqdm import tqdm\n",
    "import numpy as np\n",
    "\n",
    "sigmas = [np.zeros(args.feature_size) for _ in range(args.class_num)]\n",
    "bar = tqdm(ds_train, total=ds_train_size)\n",
    "for i, (x, y) in enumerate(bar):\n",
    "    x, y = x.numpy(), y.numpy()\n",
    "    distrib, _, _ = predict(g_vae_state, x)\n",
    "    mu, sigma = distrib\n",
    "    for i in range(args.class_num):\n",
    "        sigmas[i] += (sigma[y==i].mean(0) - sigmas[i]) / (i + 1)\n",
    "    break"
   ]
  },
  {
   "cell_type": "code",
   "execution_count": null,
   "id": "03e68adc",
   "metadata": {},
   "outputs": [],
   "source": [
    "from PIL import Image\n",
    "import matplotlib.pyplot as plt\n",
    "def show_image_aug(x, n=14, name='image_aug', threshold_rate=0.05):\n",
    "    distrib, _, _ = jax.device_get(predict(g_vae_state, x))\n",
    "    mu, logsigma2 = distrib\n",
    "    sigma = np.sqrt(np.exp(logsigma2))\n",
    "    threshold_idx = int(sigma.shape[1]*(1-threshold_rate))\n",
    "    threshold = np.sort(sigma, axis=-1)[:, threshold_idx:threshold_idx+1]\n",
    "    delta = np.where(sigma >= threshold, sigma, 0)\n",
    "    plt.hist(sigma[0], bins=50)\n",
    "    plt.hist(delta[0][delta[0] > 0], bins=50)\n",
    "    print(mu.mean(), sigma.mean())\n",
    "    pos, neg = [], []\n",
    "    for i in range(n//2):\n",
    "        z = mu - i * delta * 0.5\n",
    "        aug = decoder_predict(g_vae_decoder_state, z)\n",
    "        neg.append(aug)\n",
    "\n",
    "        z = mu + i * delta * 0.5\n",
    "        aug = decoder_predict(g_vae_decoder_state, z)\n",
    "        pos.append(aug)\n",
    "    image = x\n",
    "    if image.shape[-1] == 1:  # gray origin image invert colors\n",
    "        image = 1 - image  # mid: (B,N,N,1)\n",
    "    for aug in neg: image = np.concatenate([aug, image], axis=2)\n",
    "    for aug in pos: image = np.concatenate([image, aug], axis=2)\n",
    "    # add a blank\n",
    "    image = np.concatenate([image, np.zeros((image.shape[0], image.shape[1], 5, 3))], axis=2)\n",
    "    # Gauss augmentatiton\n",
    "    np.random.seed(42)\n",
    "    z = mu + np.random.randn(*mu.shape)\n",
    "    aug = decoder_predict(g_vae_decoder_state, z)\n",
    "    image = np.concatenate([image, aug], axis=2)\n",
    "    image = image.reshape((-1, *image.shape[-2:]))\n",
    "    \n",
    "    if image.shape[-1] == 1:\n",
    "        image = image[..., 0]\n",
    "    image = (image*255).astype('uint8')\n",
    "    image = Image.fromarray(image)\n",
    "    image.save(str(args.path_figures.joinpath(name+'.jpg')))\n",
    "    image.show()\n",
    "\n",
    "args.path_figures = args.path_logs.joinpath(\"figures\")\n",
    "args.path_figures.mkdir(exist_ok=True)\n",
    "for i, (x, y) in enumerate(bar):\n",
    "    x, y = x.numpy(), y.numpy()\n",
    "    show_image_aug(x[:10])\n",
    "    break"
   ]
  },
  {
   "cell_type": "code",
   "execution_count": null,
   "id": "44a71241",
   "metadata": {},
   "outputs": [],
   "source": []
  },
  {
   "cell_type": "code",
   "execution_count": null,
   "id": "c3e2a849",
   "metadata": {},
   "outputs": [],
   "source": []
  },
  {
   "cell_type": "code",
   "execution_count": null,
   "id": "bf72e59b",
   "metadata": {},
   "outputs": [],
   "source": []
  }
 ],
 "metadata": {
  "kernelspec": {
   "display_name": "Python 3 (ipykernel)",
   "language": "python",
   "name": "python3"
  },
  "language_info": {
   "codemirror_mode": {
    "name": "ipython",
    "version": 3
   },
   "file_extension": ".py",
   "mimetype": "text/x-python",
   "name": "python",
   "nbconvert_exporter": "python",
   "pygments_lexer": "ipython3",
   "version": "3.11.4"
  }
 },
 "nbformat": 4,
 "nbformat_minor": 5
}
