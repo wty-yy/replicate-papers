{
 "cells": [
  {
   "cell_type": "code",
   "execution_count": null,
   "id": "7169c101",
   "metadata": {},
   "outputs": [],
   "source": [
    "import sys\n",
    "from pathlib import Path\n",
    "sys.path.append(str(Path.cwd().parent.parent))"
   ]
  },
  {
   "cell_type": "code",
   "execution_count": null,
   "id": "c7b3f586",
   "metadata": {},
   "outputs": [],
   "source": [
    "from katacv.utils.related_pkgs.jax_flax_optax_orbax import *\n",
    "from katacv.utils.related_pkgs.utility import *\n",
    "from katacv.G_VAE.parser import get_args_and_writer\n",
    "args = get_args_and_writer(no_writer=True, input_args=[], model_name='G-VAE', dataset_name='celeba')\n",
    "from katacv.G_VAE.model import get_g_vae_model_state, get_decoder_state\n",
    "g_vae_state = get_g_vae_model_state(args)\n",
    "g_vae_decoder_state = get_decoder_state(args)\n",
    "print(\"Successfully initialze model state!\")"
   ]
  },
  {
   "cell_type": "code",
   "execution_count": null,
   "id": "6b46ff46",
   "metadata": {},
   "outputs": [],
   "source": [
    "path_weights = \"/home/yy/Coding/models/G-VAE/celeba/G-VAE2048-0010-lite\"\n",
    "weights = ocp.PyTreeCheckpointer().restore(path_weights)\n",
    "g_vae_state = g_vae_state.replace(params=weights['params'], batch_stats=weights['batch_stats'])\n",
    "g_vae_decoder_state = g_vae_decoder_state.replace(params=weights['params']['Decoder_0'], batch_stats=weights['batch_stats']['Decoder_0'])\n",
    "print(\"Successfully load model weights.\")"
   ]
  },
  {
   "cell_type": "code",
   "execution_count": null,
   "id": "381ea9d2",
   "metadata": {},
   "outputs": [],
   "source": [
    "from katacv.utils.celeba.build_dataset import DatasetBuilder\n",
    "args.path_dataset = Path(\"/home/yy/Coding/datasets/celeba/\")\n",
    "args.batch_size = 25\n",
    "ds_builer = DatasetBuilder(args)\n",
    "ds_train, ds_train_size = ds_builer.get_dataset(subset='train', repeat=1, shuffle=False, use_aug=False)\n",
    "ds_val, ds_val_size = ds_builer.get_dataset(subset='val', repeat=1, shuffle=False, use_aug=False)\n",
    "print(\"Succesfully build dataset!\")"
   ]
  },
  {
   "cell_type": "code",
   "execution_count": null,
   "id": "d4941938",
   "metadata": {},
   "outputs": [],
   "source": [
    "@jax.jit\n",
    "def predict(state, x):\n",
    "    return state.apply_fn(\n",
    "        {'params': state.params, 'batch_stats': state.batch_stats},\n",
    "        x, train=False\n",
    "    )\n",
    "\n",
    "def decoder_predict(decoder_state, z):\n",
    "    aug = jax.device_get(predict(decoder_state, z)\n",
    "    aug = (aug - aug.min()) / (aug.max() - aug.min())\n",
    "    return aug\n",
    "\n",
    "predict(g_vae_state, jnp.empty(args.input_shape, dtype=jnp.float32))\n",
    "decoder_predict(g_vae_decoder_state, jnp.empty((args.batch_size, args.feature_size), dtype=jnp.float32))\n",
    "print(\"Complete compiled!\")"
   ]
  },
  {
   "cell_type": "code",
   "execution_count": null,
   "id": "4eef5c39",
   "metadata": {},
   "outputs": [],
   "source": [
    "# Get average sigma\n",
    "from tqdm import tqdm\n",
    "import numpy as np\n",
    "\n",
    "sigmas = np.zeros((args.class_num, args.feature_size))\n",
    "bar = tqdm(ds_train, total=ds_train_size)\n",
    "for i, (x, y) in enumerate(bar):\n",
    "    x, y = x.numpy(), y.numpy()\n",
    "    mu, logsigma2 = jax.device_get(predict(g_vae_state, x)[0])\n",
    "    sigma = np.sqrt(np.exp(logsigma2))\n",
    "    for j in range(args.class_num):\n",
    "        if (y==j).sum() == 0: continue\n",
    "        sigmas[j] += (sigma[y==j].mean(0) - sigmas[j]) / (i + 1)"
   ]
  },
  {
   "cell_type": "code",
   "execution_count": null,
   "id": "2dd59a80-5acf-46be-bc22-a565095418b6",
   "metadata": {},
   "outputs": [],
   "source": [
    "from katacv.utils.celeba.label2readable import label2readable\n",
    "for key, value in label2readable.items():\n",
    "    print(value, sigmas[key].mean())"
   ]
  },
  {
   "cell_type": "code",
   "execution_count": null,
   "id": "436a2e95-1d83-4b96-8490-dafbdd1e1964",
   "metadata": {},
   "outputs": [],
   "source": [
    "import matplotlib.pyplot as plt\n",
    "xs = range(n)\n",
    "for key, value in label2readable.items():\n",
    "    plt.scatter(xs, sigmas[key], label=value)\n",
    "plt.legend()"
   ]
  },
  {
   "cell_type": "code",
   "execution_count": null,
   "id": "46760047-a4c6-4136-83f9-76851e01c25f",
   "metadata": {},
   "outputs": [],
   "source": [
    "threshold_rate = 0.05\n",
    "threshold_idx = int(sigmas.shape[1]*(1-threshold_rate))\n",
    "threshold = np.sort(sigmas, axis=-1)[:, threshold_idx:threshold_idx+1]\n",
    "deltas = np.where(sigmas >= threshold, sigmas, 0)\n",
    "\n",
    "for key, value in label2readable.items():\n",
    "    plt.scatter(xs, deltas[key], label=value)\n",
    "plt.legend()"
   ]
  },
  {
   "cell_type": "code",
   "execution_count": null,
   "id": "365394d2-db94-473c-b52d-9cba99ee7372",
   "metadata": {},
   "outputs": [],
   "source": [
    "target_idx = 16\n",
    "target_image = None\n",
    "for x, y in ds_val:\n",
    "    x, y = x.numpy(), y.numpy()\n",
    "    if target_idx < 10:\n",
    "        target_image = x[target_idx]\n",
    "        break\n",
    "    target_idx -= 10\n",
    "# plt.imshow(target_image)\n",
    "z, _ = jax.device_get(predict(g_vae_state, target_image[None,...])[0])\n",
    "print(z.shape)"
   ]
  },
  {
   "cell_type": "code",
   "execution_count": null,
   "id": "5e28db52-a1be-48a3-957a-d1bf4a8d759d",
   "metadata": {},
   "outputs": [],
   "source": [
    "aug = decoder_predict(g_vae_decoder_state, z)\n",
    "plt.subplot(121)\n",
    "plt.imshow(target_image)\n",
    "plt.subplot(122)\n",
    "plt.imshow(aug[0])"
   ]
  },
  {
   "cell_type": "code",
   "execution_count": null,
   "id": "7845de16-e3f9-46d4-9884-5deb59091ffb",
   "metadata": {},
   "outputs": [],
   "source": [
    "label2readable"
   ]
  },
  {
   "cell_type": "code",
   "execution_count": null,
   "id": "5752bd6f-43af-41bd-b9dc-41a702b693ae",
   "metadata": {},
   "outputs": [],
   "source": [
    "print(target_image.shape)"
   ]
  },
  {
   "cell_type": "code",
   "execution_count": null,
   "id": "7b9d6d9b-b062-4dbb-9ce8-d417f98862fb",
   "metadata": {},
   "outputs": [],
   "source": [
    "r, c = 3, 4\n",
    "alpha_x, alpha_y = 3 / c, 3 / r\n",
    "image = []\n",
    "for i in range(r*2+1):\n",
    "    row = []\n",
    "    for j in range(c*2+1):\n",
    "        delta_x = -deltas[0] if j > c else (deltas[2] if j < c else 0)\n",
    "        delta_y = -deltas[1] if i < r else (deltas[3] if i > r else 0)\n",
    "        p = np.abs(np.array((i,j)) - np.array((r,c)))\n",
    "        delta = alpha_x * p[1] * delta_x + alpha_y * p[0] * delta_y\n",
    "        aug = decoder_predict(g_vae_decoder_state, z + delta)[0]\n",
    "        row.append(aug)\n",
    "    row = np.concatenate(row, axis=1)\n",
    "    image.append(row)\n",
    "image = np.concatenate(image, axis=0)\n",
    "image = (image*255).astype('uint8')\n",
    "plt.figure(figsize=(10, 15))\n",
    "plt.imshow(image)\n",
    "# print(image.shape)\n",
    "from PIL import Image\n",
    "Image.fromarray(image).save(str(args.path_logs.joinpath(\"change_image.jpg\")))"
   ]
  },
  {
   "cell_type": "code",
   "execution_count": null,
   "id": "ba219766-960a-4923-9d21-c4e8ca487520",
   "metadata": {},
   "outputs": [],
   "source": [
    "total = 10000\n",
    "zs = [[] for _ in range(args.class_num)]\n",
    "bar = tqdm(ds_train, total=ds_train_size)\n",
    "for i, (x, y) in enumerate(bar):\n",
    "    x, y = x.numpy(), y.numpy()\n",
    "    mu, _ = jax.device_get(predict(g_vae_state, x)[0])\n",
    "    for j in range(mu.shape[0]):\n",
    "        zs[y[j]].append(mu[j:j+1])\n",
    "for i in range(args.class_num):\n",
    "    print(label2readable[i], len(zs[i]))\n",
    "    zs[i] = np.concatenate(zs[i], axis=0)"
   ]
  },
  {
   "cell_type": "code",
   "execution_count": null,
   "id": "22b5a1ae-623e-498e-afd4-81e687003d5c",
   "metadata": {},
   "outputs": [],
   "source": [
    "n = 1000\n",
    "colors = ['tab:blue', 'tab:orange', 'tab:green', 'tab:red']\n",
    "fig, axs = plt.subplots(1, 3, figsize=(12, 4))\n",
    "for i, z in enumerate(zs):\n",
    "    X = z.T @ z\n",
    "    # print(X.shape)\n",
    "    eval, evec = np.linalg.eig(X)\n",
    "    # print(eval.shape, evec.shape)\n",
    "    vec = evec[:2]\n",
    "    z_down = z[:n] @ vec.T\n",
    "    # print(z_down.shape)\n",
    "    if i in [0,1]:\n",
    "        axs[0].scatter(z_down[:,0], z_down[:,1], label=label2readable[i], c=colors[i])\n",
    "    else:\n",
    "        axs[1].scatter(z_down[:,0], z_down[:,1], label=label2readable[i], c=colors[i])\n",
    "    axs[2].scatter(z_down[:,0], z_down[:,1], label=label2readable[i], c=colors[i])\n",
    "for ax in axs:\n",
    "    ax.set_xticks([])\n",
    "    ax.set_yticks([])\n",
    "    ax.legend(loc='lower left')\n",
    "plt.tight_layout()\n",
    "plt.savefig(str(args.path_logs.joinpath(\"pca.jpg\")), dpi=300)\n",
    "# plt.legend()"
   ]
  },
  {
   "cell_type": "code",
   "execution_count": null,
   "id": "03e68adc",
   "metadata": {},
   "outputs": [],
   "source": [
    "from PIL import Image\n",
    "import matplotlib.pyplot as plt\n",
    "def show_image_aug(x, n=14, name='image_aug', threshold_rate=0.05):\n",
    "    distrib, _, _ = jax.device_get(predict(g_vae_state, x))\n",
    "    mu, logsigma2 = distrib\n",
    "    sigma = np.sqrt(np.exp(logsigma2))\n",
    "    threshold_idx = int(sigma.shape[1]*(1-threshold_rate))\n",
    "    threshold = np.sort(sigma, axis=-1)[:, threshold_idx:threshold_idx+1]\n",
    "    delta = np.where(sigma >= threshold, sigma, 0)\n",
    "    plt.hist(sigma[0], bins=50)\n",
    "    plt.hist(delta[0][delta[0] > 0], bins=50)\n",
    "    print(mu.mean(), sigma.mean())\n",
    "    pos, neg = [], []\n",
    "    for i in range(n//2):\n",
    "        z = mu - i * delta * 0.5\n",
    "        aug = decoder_predict(g_vae_decoder_state, z)\n",
    "        neg.append(aug)\n",
    "\n",
    "        z = mu + i * delta * 0.5\n",
    "        aug = decoder_predict(g_vae_decoder_state, z)\n",
    "        pos.append(aug)\n",
    "    image = x\n",
    "    if image.shape[-1] == 1:  # gray origin image invert colors\n",
    "        image = 1 - image  # mid: (B,N,N,1)\n",
    "    for aug in neg: image = np.concatenate([aug, image], axis=2)\n",
    "    for aug in pos: image = np.concatenate([image, aug], axis=2)\n",
    "    # add a blank\n",
    "    image = np.concatenate([image, np.zeros((image.shape[0], image.shape[1], 5, 3))], axis=2)\n",
    "    # Gauss augmentatiton\n",
    "    np.random.seed(42)\n",
    "    z = mu + np.random.randn(*mu.shape)\n",
    "    aug = decoder_predict(g_vae_decoder_state, z)\n",
    "    image = np.concatenate([image, aug], axis=2)\n",
    "    image = image.reshape((-1, *image.shape[-2:]))\n",
    "    \n",
    "    if image.shape[-1] == 1:\n",
    "        image = image[..., 0]\n",
    "    image = (image*255).astype('uint8')\n",
    "    image = Image.fromarray(image)\n",
    "    image.save(str(args.path_figures.joinpath(name+'.jpg')))\n",
    "    image.show()\n",
    "\n",
    "args.path_figures = args.path_logs.joinpath(\"figures\")\n",
    "args.path_figures.mkdir(exist_ok=True)\n",
    "for i, (x, y) in enumerate(bar):\n",
    "    x, y = x.numpy(), y.numpy()\n",
    "    show_image_aug(x[:10])\n",
    "    break"
   ]
  },
  {
   "cell_type": "code",
   "execution_count": null,
   "id": "44a71241",
   "metadata": {},
   "outputs": [],
   "source": []
  },
  {
   "cell_type": "code",
   "execution_count": null,
   "id": "c3e2a849",
   "metadata": {},
   "outputs": [],
   "source": []
  },
  {
   "cell_type": "code",
   "execution_count": null,
   "id": "bf72e59b",
   "metadata": {},
   "outputs": [],
   "source": []
  }
 ],
 "metadata": {
  "kernelspec": {
   "display_name": "Python 3 (ipykernel)",
   "language": "python",
   "name": "python3"
  },
  "language_info": {
   "codemirror_mode": {
    "name": "ipython",
    "version": 3
   },
   "file_extension": ".py",
   "mimetype": "text/x-python",
   "name": "python",
   "nbconvert_exporter": "python",
   "pygments_lexer": "ipython3",
   "version": "3.11.5"
  }
 },
 "nbformat": 4,
 "nbformat_minor": 5
}
