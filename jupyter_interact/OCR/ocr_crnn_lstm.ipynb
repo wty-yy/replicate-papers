{
 "cells": [
  {
   "cell_type": "code",
   "execution_count": 1,
   "id": "99764e8f",
   "metadata": {},
   "outputs": [],
   "source": [
    "import sys\n",
    "from pathlib import Path\n",
    "sys.path.append(str(Path.cwd().parent.parent))"
   ]
  },
  {
   "cell_type": "code",
   "execution_count": 2,
   "id": "044fd603",
   "metadata": {},
   "outputs": [
    {
     "name": "stderr",
     "output_type": "stream",
     "text": [
      "2023-10-17 17:32:10.380536: W tensorflow/compiler/tf2tensorrt/utils/py_utils.cc:38] TF-TRT Warning: Could not find TensorRT\n"
     ]
    },
    {
     "name": "stdout",
     "output_type": "stream",
     "text": [
      "dict_keys(['batch_stats', 'opt_state', 'params', 'step'])\n"
     ]
    }
   ],
   "source": [
    "from katacv.utils.related_pkgs.jax_flax_optax_orbax import *\n",
    "from katacv.ocr.parser import get_args_and_writer\n",
    "from katacv.ocr.crnn_model_lstm import get_ocr_crnn_lstm_state\n",
    "\n",
    "args = get_args_and_writer(no_writer=True, input_args=\"\")\n",
    "state = get_ocr_crnn_lstm_state(args)\n",
    "weights = ocp.PyTreeCheckpointer().restore(\"/home/yy/Coding/models/OCR/OCR-CRNN-LSTM-0020-lite\")\n",
    "print(weights.keys())\n",
    "# weights = ocp.PyTreeCheckpointer().restore(\"/home/yy/Coding/models/YOLOv1/YOLOv1-0080-lite\")\n",
    "state = state.replace(params=weights['params'], batch_stats=weights['batch_stats'])\n",
    "# state = state.replace(params=weights['params'], params_darknet=None, batch_stats=weights['batch_stats'])"
   ]
  },
  {
   "cell_type": "code",
   "execution_count": 10,
   "id": "93a8dcce",
   "metadata": {},
   "outputs": [
    {
     "name": "stdout",
     "output_type": "stream",
     "text": [
      "XLA compile...\n",
      "(['S'], Array([1.7228876e-05], dtype=float32))\n",
      "Compile complete! Use time: 0.02 s\n"
     ]
    }
   ],
   "source": [
    "from katacv.ocr.ocr_predict import predict_result\n",
    "import time\n",
    "start_time = time.time()\n",
    "print(\"XLA compile...\")\n",
    "input_shape = (1, 32, 100, 1)\n",
    "predict = partial(predict_result, state=state, max_len=args.max_label_length, idx2ch=args.idx2ch)\n",
    "print(predict(x=jnp.empty(input_shape, dtype=jnp.uint8)))\n",
    "print(f\"Compile complete! Use time: {time.time() - start_time:.2f} s\")"
   ]
  },
  {
   "cell_type": "code",
   "execution_count": 4,
   "id": "2af60a69",
   "metadata": {},
   "outputs": [
    {
     "ename": "FileNotFoundError",
     "evalue": "[Errno 2] No such file or directory: '/home/wty/Coding/datasets/mjsynth/1/1/1_pontifically_58805.jpg'",
     "output_type": "error",
     "traceback": [
      "\u001b[0;31m---------------------------------------------------------------------------\u001b[0m",
      "\u001b[0;31mFileNotFoundError\u001b[0m                         Traceback (most recent call last)",
      "Cell \u001b[0;32mIn[4], line 2\u001b[0m\n\u001b[1;32m      1\u001b[0m \u001b[38;5;28;01mfrom\u001b[39;00m \u001b[38;5;21;01mPIL\u001b[39;00m \u001b[38;5;28;01mimport\u001b[39;00m Image\n\u001b[0;32m----> 2\u001b[0m x \u001b[38;5;241m=\u001b[39m jnp\u001b[38;5;241m.\u001b[39marray(\u001b[43mImage\u001b[49m\u001b[38;5;241;43m.\u001b[39;49m\u001b[43mopen\u001b[49m\u001b[43m(\u001b[49m\u001b[38;5;124;43mr\u001b[39;49m\u001b[38;5;124;43m\"\u001b[39;49m\u001b[38;5;124;43m/home/wty/Coding/datasets/mjsynth/1/1/1_pontifically_58805.jpg\u001b[39;49m\u001b[38;5;124;43m\"\u001b[39;49m\u001b[43m)\u001b[49m\u001b[38;5;241m.\u001b[39mconvert(\u001b[38;5;124m\"\u001b[39m\u001b[38;5;124mL\u001b[39m\u001b[38;5;124m\"\u001b[39m)\u001b[38;5;241m.\u001b[39mresize((\u001b[38;5;241m100\u001b[39m,\u001b[38;5;241m32\u001b[39m)))[\u001b[38;5;28;01mNone\u001b[39;00m, \u001b[38;5;241m.\u001b[39m\u001b[38;5;241m.\u001b[39m\u001b[38;5;241m.\u001b[39m, \u001b[38;5;28;01mNone\u001b[39;00m]\n\u001b[1;32m      3\u001b[0m \u001b[38;5;28;01mimport\u001b[39;00m \u001b[38;5;21;01mmatplotlib\u001b[39;00m\u001b[38;5;21;01m.\u001b[39;00m\u001b[38;5;21;01mpyplot\u001b[39;00m \u001b[38;5;28;01mas\u001b[39;00m \u001b[38;5;21;01mplt\u001b[39;00m\n\u001b[1;32m      4\u001b[0m plt\u001b[38;5;241m.\u001b[39mimshow(x[\u001b[38;5;241m0\u001b[39m], cmap\u001b[38;5;241m=\u001b[39m\u001b[38;5;124m'\u001b[39m\u001b[38;5;124mgray\u001b[39m\u001b[38;5;124m'\u001b[39m)\n",
      "File \u001b[0;32m~/.conda/envs/jax/lib/python3.11/site-packages/PIL/Image.py:3236\u001b[0m, in \u001b[0;36mopen\u001b[0;34m(fp, mode, formats)\u001b[0m\n\u001b[1;32m   3233\u001b[0m     filename \u001b[38;5;241m=\u001b[39m fp\n\u001b[1;32m   3235\u001b[0m \u001b[38;5;28;01mif\u001b[39;00m filename:\n\u001b[0;32m-> 3236\u001b[0m     fp \u001b[38;5;241m=\u001b[39m \u001b[43mbuiltins\u001b[49m\u001b[38;5;241;43m.\u001b[39;49m\u001b[43mopen\u001b[49m\u001b[43m(\u001b[49m\u001b[43mfilename\u001b[49m\u001b[43m,\u001b[49m\u001b[43m \u001b[49m\u001b[38;5;124;43m\"\u001b[39;49m\u001b[38;5;124;43mrb\u001b[39;49m\u001b[38;5;124;43m\"\u001b[39;49m\u001b[43m)\u001b[49m\n\u001b[1;32m   3237\u001b[0m     exclusive_fp \u001b[38;5;241m=\u001b[39m \u001b[38;5;28;01mTrue\u001b[39;00m\n\u001b[1;32m   3239\u001b[0m \u001b[38;5;28;01mtry\u001b[39;00m:\n",
      "\u001b[0;31mFileNotFoundError\u001b[0m: [Errno 2] No such file or directory: '/home/wty/Coding/datasets/mjsynth/1/1/1_pontifically_58805.jpg'"
     ]
    }
   ],
   "source": [
    "from PIL import Image\n",
    "x = jnp.array(Image.open(r\"/home/wty/Coding/datasets/mjsynth/1/1/1_pontifically_58805.jpg\").convert(\"L\").resize((100,32)))[None, ..., None]\n",
    "import matplotlib.pyplot as plt\n",
    "plt.imshow(x[0], cmap='gray')\n",
    "print(x.shape)\n",
    "print(predict(x=x))"
   ]
  },
  {
   "cell_type": "code",
   "execution_count": null,
   "id": "ccc0a604",
   "metadata": {},
   "outputs": [],
   "source": [
    "import io, time\n",
    "import ipywidgets as widgets\n",
    "from IPython.display import display, clear_output\n",
    "from PIL import Image, ImageEnhance\n",
    "import numpy as np\n",
    "import matplotlib.pyplot as plt\n",
    "\n",
    "upload_button = widgets.FileUpload(description=\"上传图片\")\n",
    "aux_output = widgets.Text(\"模型/识别用时：\")\n",
    "\n",
    "# 显示图片和调整亮度、对比度的函数\n",
    "def show_image(upload):\n",
    "    if upload:\n",
    "        uploaded_file = upload[0]\n",
    "        origin_image = Image.open(io.BytesIO(uploaded_file['content'])).convert('L')\n",
    "        resize_image = origin_image.resize((100,32))\n",
    "        x = jnp.array(resize_image)[None,...,None].astype('uint8')\n",
    "        start_time = time.time()\n",
    "        pred_result, conf = predict(x=x)\n",
    "        print(\"Predict result:\", pred_result)\n",
    "        print(\"Confidence:\", conf)\n",
    "        aux_output.value = f\"模型用时：{time.time() - start_time:.4f} s\"\n",
    "        \n",
    "        fig, ax = plt.subplots(figsize=(8,3))\n",
    "        ax.imshow(origin_image, cmap='gray')\n",
    "        plt.show()\n",
    "\n",
    "interactive_output = widgets.interactive_output(\n",
    "    show_image,\n",
    "    {\n",
    "        \"upload\": upload_button,\n",
    "    }\n",
    ")\n",
    "\n",
    "display(widgets.HBox([upload_button, aux_output]), interactive_output)\n"
   ]
  },
  {
   "cell_type": "code",
   "execution_count": null,
   "id": "fbb84f25",
   "metadata": {},
   "outputs": [],
   "source": []
  }
 ],
 "metadata": {
  "kernelspec": {
   "display_name": "Python 3 (ipykernel)",
   "language": "python",
   "name": "python3"
  },
  "language_info": {
   "codemirror_mode": {
    "name": "ipython",
    "version": 3
   },
   "file_extension": ".py",
   "mimetype": "text/x-python",
   "name": "python",
   "nbconvert_exporter": "python",
   "pygments_lexer": "ipython3",
   "version": "3.11.5"
  }
 },
 "nbformat": 4,
 "nbformat_minor": 5
}
