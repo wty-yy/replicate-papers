{
 "cells": [
  {
   "cell_type": "code",
   "execution_count": null,
   "id": "62941856",
   "metadata": {},
   "outputs": [],
   "source": [
    "import sys\n",
    "from pathlib import Path\n",
    "sys.path.append(str(Path.cwd().parent.parent))"
   ]
  },
  {
   "cell_type": "code",
   "execution_count": null,
   "id": "4e15c6ed",
   "metadata": {},
   "outputs": [],
   "source": [
    "from katacv.utils.related_pkgs.jax_flax_optax_orbax import *\n",
    "from katacv.utils.related_pkgs.utility import *\n",
    "from katacv.G_VAE.parser import get_args_and_writer\n",
    "args = get_args_and_writer(no_writer=True, input_args=[], model_name='G-VAE', dataset_name='cifar10')\n",
    "args.path_cp = Path(\"/home/wty/Coding/GitHub/KataCV/logs/G-VAE-checkpoints\")\n",
    "args.path_dataset = Path(\"/home/wty/Coding/datasets/cifar10\")"
   ]
  },
  {
   "cell_type": "code",
   "execution_count": null,
   "id": "75b10526",
   "metadata": {},
   "outputs": [],
   "source": [
    "from katacv.G_VAE.model import get_g_vae_model_state\n",
    "state = get_g_vae_model_state(args)\n",
    "args.load_id = 5\n",
    "from katacv.utils import load_weights\n",
    "state = load_weights(state, args)"
   ]
  },
  {
   "cell_type": "code",
   "execution_count": null,
   "id": "911bec77",
   "metadata": {},
   "outputs": [],
   "source": [
    "@jax.jit\n",
    "def predict(state, x):\n",
    "  return state.apply_fn(\n",
    "    {'params': state.params, 'batch_stats': state.batch_stats},\n",
    "    x, train=False\n",
    "  )"
   ]
  },
  {
   "cell_type": "code",
   "execution_count": null,
   "id": "cf14c427",
   "metadata": {},
   "outputs": [],
   "source": [
    "disrib, image, logits = predict(state, jnp.empty(args.input_shape))\n",
    "print(disrib[0].shape, image.shape, logits.shape)"
   ]
  },
  {
   "cell_type": "code",
   "execution_count": null,
   "id": "2520d665",
   "metadata": {},
   "outputs": [],
   "source": [
    "from katacv.utils.mini_data.build_dataset import DatasetBuilder\n",
    "from katacv.utils.mini_data.cifar10 import load_cifar10\n",
    "data = load_cifar10(args.path_dataset)\n",
    "ds_builder = DatasetBuilder(data, args)\n",
    "ds, ds_size = ds_builder.get_dataset(subset='val', shuffle=False, use_aug=False)\n",
    "from katacv.utils.mini_data.label2readable import label2readable\n",
    "label2readable = label2readable['cifar10']"
   ]
  },
  {
   "cell_type": "code",
   "execution_count": null,
   "id": "ff9a4a5d",
   "metadata": {},
   "outputs": [],
   "source": [
    "import matplotlib.pyplot as plt\n",
    "for x, y in ds:\n",
    "    x, y = x.numpy(), y.numpy()\n",
    "    r, c = 5, 8\n",
    "    fig, axs = plt.subplots(r, c)\n",
    "    for i in range(r):\n",
    "        for j in range(c):\n",
    "            ax = axs[i,j]\n",
    "            idx = i*c+j\n",
    "            ax.imshow(x[idx])\n",
    "            ax.set_title(label2readable[y[idx]])\n",
    "            ax.set_axis_off()\n",
    "    plt.tight_layout()\n",
    "    plt.show()\n",
    "    break"
   ]
  },
  {
   "cell_type": "code",
   "execution_count": null,
   "id": "14163bb2",
   "metadata": {},
   "outputs": [],
   "source": [
    "from tqdm import tqdm\n",
    "import numpy as np\n",
    "bar = tqdm(ds, total=ds_size)\n",
    "acc = 0\n",
    "for i, (x, y) in enumerate(bar):\n",
    "    x, y = x.numpy(), y.numpy()\n",
    "    _, _, pred_y = jax.device_get(predict(state, x))\n",
    "    pred_y = np.argmax(pred_y, -1)\n",
    "    # print((pred_y == y).mean())\n",
    "    acc += ((pred_y == y).mean() - acc) / (i + 1)\n",
    "    bar.set_description(f\"Acc: {acc:.2f}\")\n",
    "    # break"
   ]
  },
  {
   "cell_type": "code",
   "execution_count": null,
   "id": "db31d700",
   "metadata": {},
   "outputs": [],
   "source": [
    "ds_train, ds_train_size = ds_builder.get_dataset(subset='train', shuffle=False, use_aug=False)\n",
    "bar = tqdm(ds_train, total=ds_train_size)\n",
    "acc = 0\n",
    "for i, (x, y) in enumerate(bar):\n",
    "    x, y = x.numpy(), y.numpy()\n",
    "    _, _, pred_y = jax.device_get(predict(state, x))\n",
    "    pred_y = np.argmax(pred_y, -1)\n",
    "    # print((pred_y == y).mean())\n",
    "    acc += ((pred_y == y).mean() - acc) / (i + 1)\n",
    "    bar.set_description(f\"Acc: {acc:.2f}\")\n",
    "    # break"
   ]
  },
  {
   "cell_type": "code",
   "execution_count": null,
   "id": "0783236f",
   "metadata": {},
   "outputs": [],
   "source": [
    "acc"
   ]
  },
  {
   "cell_type": "code",
   "execution_count": null,
   "id": "60d1dbbb",
   "metadata": {},
   "outputs": [],
   "source": []
  }
 ],
 "metadata": {
  "kernelspec": {
   "display_name": "Python 3 (ipykernel)",
   "language": "python",
   "name": "python3"
  },
  "language_info": {
   "codemirror_mode": {
    "name": "ipython",
    "version": 3
   },
   "file_extension": ".py",
   "mimetype": "text/x-python",
   "name": "python",
   "nbconvert_exporter": "python",
   "pygments_lexer": "ipython3",
   "version": "3.11.4"
  }
 },
 "nbformat": 4,
 "nbformat_minor": 5
}
