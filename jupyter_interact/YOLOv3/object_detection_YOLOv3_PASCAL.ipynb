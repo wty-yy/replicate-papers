{
 "cells": [
  {
   "cell_type": "code",
   "execution_count": 1,
   "id": "99764e8f",
   "metadata": {},
   "outputs": [],
   "source": [
    "import sys\n",
    "from pathlib import Path\n",
    "sys.path.append(str(Path.cwd().parent.parent))"
   ]
  },
  {
   "cell_type": "code",
   "execution_count": 9,
   "id": "044fd603",
   "metadata": {},
   "outputs": [
    {
     "name": "stdout",
     "output_type": "stream",
     "text": [
      "dict_keys(['batch_stats', 'opt_state', 'params', 'step'])\n"
     ]
    }
   ],
   "source": [
    "from katacv.utils.related_pkgs.jax_flax_optax_orbax import *\n",
    "from katacv.yolov3.yolov3 import get_args_and_writer\n",
    "from katacv.yolov3.yolov3_model import get_yolov3_state\n",
    "\n",
    "class Args:\n",
    "    B = 3\n",
    "    C = 20\n",
    "    seed = 0\n",
    "    input_shape = (1,416,416,3)\n",
    "    learning_rate = 1e-4\n",
    "\n",
    "args = Args()\n",
    "state = get_yolov3_state(args)\n",
    "weights = ocp.PyTreeCheckpointer().restore(\"/home/wty/Coding/models/YOLOv3/YOLOv3-PASCAL-0040-lite\")\n",
    "print(weights.keys())\n",
    "# weights = ocp.PyTreeCheckpointer().restore(\"/home/yy/Coding/models/YOLOv1/YOLOv1-0080-lite\")\n",
    "state = state.replace(params=weights['params'], batch_stats=weights['batch_stats'])"
   ]
  },
  {
   "cell_type": "code",
   "execution_count": 11,
   "id": "56e9ce63",
   "metadata": {},
   "outputs": [
    {
     "name": "stdout",
     "output_type": "stream",
     "text": [
      "dict_keys(['ConvBlock_0', 'ConvBlock_1', 'DarkNet_0', 'ScalePredict_0', 'ScalePredict_1', 'ScalePredict_2', 'YOLOBlock_0', 'YOLOBlock_1', 'YOLOBlock_2'])\n"
     ]
    }
   ],
   "source": [
    "print(state.params.keys())"
   ]
  },
  {
   "cell_type": "code",
   "execution_count": 12,
   "id": "75dbe147",
   "metadata": {},
   "outputs": [
    {
     "name": "stdout",
     "output_type": "stream",
     "text": [
      "XLA compile...\n"
     ]
    },
    {
     "ename": "ScopeParamShapeError",
     "evalue": "Initializer expected to generate shape (1, 1, 1024, 255) but got shape (1, 1, 1024, 75) instead for parameter \"kernel\" in \"/ScalePredict_0/ConvBlock_1/Conv_0\". (https://flax.readthedocs.io/en/latest/api_reference/flax.errors.html#flax.errors.ScopeParamShapeError)",
     "output_type": "error",
     "traceback": [
      "\u001b[0;31m---------------------------------------------------------------------------\u001b[0m",
      "\u001b[0;31mScopeParamShapeError\u001b[0m                      Traceback (most recent call last)",
      "Cell \u001b[0;32mIn[12], line 9\u001b[0m\n\u001b[1;32m      7\u001b[0m     \u001b[38;5;28;01mreturn\u001b[39;00m jax\u001b[38;5;241m.\u001b[39mdevice_get(outputs)\n\u001b[1;32m      8\u001b[0m \u001b[38;5;28mprint\u001b[39m(\u001b[38;5;124m\"\u001b[39m\u001b[38;5;124mXLA compile...\u001b[39m\u001b[38;5;124m\"\u001b[39m)\n\u001b[0;32m----> 9\u001b[0m y \u001b[38;5;241m=\u001b[39m predict(jnp\u001b[38;5;241m.\u001b[39mempty((\u001b[38;5;241m1\u001b[39m,\u001b[38;5;241m416\u001b[39m,\u001b[38;5;241m416\u001b[39m,\u001b[38;5;241m3\u001b[39m), dtype\u001b[38;5;241m=\u001b[39m\u001b[38;5;124m'\u001b[39m\u001b[38;5;124mfloat32\u001b[39m\u001b[38;5;124m'\u001b[39m))\n\u001b[1;32m     10\u001b[0m \u001b[38;5;28mprint\u001b[39m(\u001b[38;5;124m\"\u001b[39m\u001b[38;5;124mCompile complete!\u001b[39m\u001b[38;5;124m\"\u001b[39m)\n",
      "    \u001b[0;31m[... skipping hidden 12 frame]\u001b[0m\n",
      "Cell \u001b[0;32mIn[12], line 3\u001b[0m, in \u001b[0;36mpredict\u001b[0;34m(x)\u001b[0m\n\u001b[1;32m      1\u001b[0m \u001b[38;5;129m@jax\u001b[39m\u001b[38;5;241m.\u001b[39mjit\n\u001b[1;32m      2\u001b[0m \u001b[38;5;28;01mdef\u001b[39;00m \u001b[38;5;21mpredict\u001b[39m(x):\n\u001b[0;32m----> 3\u001b[0m     outputs \u001b[38;5;241m=\u001b[39m state\u001b[38;5;241m.\u001b[39mapply_fn(\n\u001b[1;32m      4\u001b[0m         {\u001b[38;5;124m'\u001b[39m\u001b[38;5;124mparams\u001b[39m\u001b[38;5;124m'\u001b[39m: state\u001b[38;5;241m.\u001b[39mparams, \u001b[38;5;124m'\u001b[39m\u001b[38;5;124mbatch_stats\u001b[39m\u001b[38;5;124m'\u001b[39m: state\u001b[38;5;241m.\u001b[39mbatch_stats},\n\u001b[1;32m      5\u001b[0m         x, train\u001b[38;5;241m=\u001b[39m\u001b[38;5;28;01mFalse\u001b[39;00m\n\u001b[1;32m      6\u001b[0m     )\n\u001b[1;32m      7\u001b[0m     \u001b[38;5;28;01mreturn\u001b[39;00m jax\u001b[38;5;241m.\u001b[39mdevice_get(outputs)\n",
      "    \u001b[0;31m[... skipping hidden 6 frame]\u001b[0m\n",
      "File \u001b[0;32m~/Coding/GitHub/KataCV/katacv/yolov3/yolov3_model.py:44\u001b[0m, in \u001b[0;36mNeck.__call__\u001b[0;34m(self, x, train)\u001b[0m\n\u001b[1;32m     42\u001b[0m scale1, scale2, scale3 \u001b[38;5;241m=\u001b[39m DarkNet(stage_size\u001b[38;5;241m=\u001b[39m[\u001b[38;5;241m1\u001b[39m,\u001b[38;5;241m2\u001b[39m,\u001b[38;5;241m8\u001b[39m,\u001b[38;5;241m8\u001b[39m,\u001b[38;5;241m4\u001b[39m])(x, train)\n\u001b[1;32m     43\u001b[0m y \u001b[38;5;241m=\u001b[39m block(filters\u001b[38;5;241m=\u001b[39m\u001b[38;5;241m512\u001b[39m)(scale3)\n\u001b[0;32m---> 44\u001b[0m output3 \u001b[38;5;241m=\u001b[39m predictor()(y)\n\u001b[1;32m     45\u001b[0m y \u001b[38;5;241m=\u001b[39m conv(filters\u001b[38;5;241m=\u001b[39m\u001b[38;5;241m256\u001b[39m, kernel\u001b[38;5;241m=\u001b[39m(\u001b[38;5;241m1\u001b[39m,\u001b[38;5;241m1\u001b[39m))(y)\n\u001b[1;32m     46\u001b[0m y \u001b[38;5;241m=\u001b[39m jax\u001b[38;5;241m.\u001b[39mimage\u001b[38;5;241m.\u001b[39mresize(y, (y\u001b[38;5;241m.\u001b[39mshape[\u001b[38;5;241m0\u001b[39m], \u001b[38;5;241m2\u001b[39m\u001b[38;5;241m*\u001b[39my\u001b[38;5;241m.\u001b[39mshape[\u001b[38;5;241m1\u001b[39m], \u001b[38;5;241m2\u001b[39m\u001b[38;5;241m*\u001b[39my\u001b[38;5;241m.\u001b[39mshape[\u001b[38;5;241m2\u001b[39m], y\u001b[38;5;241m.\u001b[39mshape[\u001b[38;5;241m3\u001b[39m]), \u001b[38;5;124m\"\u001b[39m\u001b[38;5;124mnearest\u001b[39m\u001b[38;5;124m\"\u001b[39m)\n",
      "    \u001b[0;31m[... skipping hidden 2 frame]\u001b[0m\n",
      "File \u001b[0;32m~/Coding/GitHub/KataCV/katacv/yolov3/yolov3_model.py:26\u001b[0m, in \u001b[0;36mScalePredict.__call__\u001b[0;34m(self, x)\u001b[0m\n\u001b[1;32m     24\u001b[0m n \u001b[38;5;241m=\u001b[39m x\u001b[38;5;241m.\u001b[39mshape[\u001b[38;5;241m-\u001b[39m\u001b[38;5;241m1\u001b[39m]\n\u001b[1;32m     25\u001b[0m x \u001b[38;5;241m=\u001b[39m \u001b[38;5;28mself\u001b[39m\u001b[38;5;241m.\u001b[39mconv(filters\u001b[38;5;241m=\u001b[39m\u001b[38;5;241m2\u001b[39m\u001b[38;5;241m*\u001b[39mn, kernel\u001b[38;5;241m=\u001b[39m(\u001b[38;5;241m3\u001b[39m,\u001b[38;5;241m3\u001b[39m))(x)\n\u001b[0;32m---> 26\u001b[0m x \u001b[38;5;241m=\u001b[39m \u001b[38;5;28mself\u001b[39m\u001b[38;5;241m.\u001b[39mconv(filters\u001b[38;5;241m=\u001b[39m\u001b[38;5;28mself\u001b[39m\u001b[38;5;241m.\u001b[39mB\u001b[38;5;241m*\u001b[39m(\u001b[38;5;28mself\u001b[39m\u001b[38;5;241m.\u001b[39mC\u001b[38;5;241m+\u001b[39m\u001b[38;5;241m5\u001b[39m), kernel\u001b[38;5;241m=\u001b[39m(\u001b[38;5;241m1\u001b[39m,\u001b[38;5;241m1\u001b[39m), use_norm\u001b[38;5;241m=\u001b[39m\u001b[38;5;28;01mFalse\u001b[39;00m, use_act\u001b[38;5;241m=\u001b[39m\u001b[38;5;28;01mFalse\u001b[39;00m)(x)\n\u001b[1;32m     27\u001b[0m \u001b[38;5;28;01mreturn\u001b[39;00m x\u001b[38;5;241m.\u001b[39mreshape(x\u001b[38;5;241m.\u001b[39mshape[\u001b[38;5;241m0\u001b[39m], x\u001b[38;5;241m.\u001b[39mshape[\u001b[38;5;241m1\u001b[39m], x\u001b[38;5;241m.\u001b[39mshape[\u001b[38;5;241m2\u001b[39m], \u001b[38;5;28mself\u001b[39m\u001b[38;5;241m.\u001b[39mB, \u001b[38;5;241m5\u001b[39m \u001b[38;5;241m+\u001b[39m \u001b[38;5;28mself\u001b[39m\u001b[38;5;241m.\u001b[39mC)\n",
      "    \u001b[0;31m[... skipping hidden 2 frame]\u001b[0m\n",
      "File \u001b[0;32m~/Coding/GitHub/KataCV/katacv/yolov3/darknet53.py:33\u001b[0m, in \u001b[0;36mConvBlock.__call__\u001b[0;34m(self, x)\u001b[0m\n\u001b[1;32m     30\u001b[0m \u001b[38;5;129m@nn\u001b[39m\u001b[38;5;241m.\u001b[39mcompact\n\u001b[1;32m     31\u001b[0m \u001b[38;5;28;01mdef\u001b[39;00m \u001b[38;5;21m__call__\u001b[39m(\u001b[38;5;28mself\u001b[39m, x):\n\u001b[1;32m     32\u001b[0m     \u001b[38;5;66;03m# do not use bias when norm is activate: https://arxiv.org/pdf/1502.03167.pdf\u001b[39;00m\n\u001b[0;32m---> 33\u001b[0m     x \u001b[38;5;241m=\u001b[39m nn\u001b[38;5;241m.\u001b[39mConv(\u001b[38;5;28mself\u001b[39m\u001b[38;5;241m.\u001b[39mfilters, \u001b[38;5;28mself\u001b[39m\u001b[38;5;241m.\u001b[39mkernel, \u001b[38;5;28mself\u001b[39m\u001b[38;5;241m.\u001b[39mstrides, use_bias\u001b[38;5;241m=\u001b[39m\u001b[38;5;129;01mnot\u001b[39;00m \u001b[38;5;28mself\u001b[39m\u001b[38;5;241m.\u001b[39muse_norm)(x)\n\u001b[1;32m     34\u001b[0m     \u001b[38;5;28;01mif\u001b[39;00m \u001b[38;5;28mself\u001b[39m\u001b[38;5;241m.\u001b[39muse_norm: x \u001b[38;5;241m=\u001b[39m \u001b[38;5;28mself\u001b[39m\u001b[38;5;241m.\u001b[39mnorm()(x)\n\u001b[1;32m     35\u001b[0m     \u001b[38;5;28;01mif\u001b[39;00m \u001b[38;5;28mself\u001b[39m\u001b[38;5;241m.\u001b[39muse_act: x \u001b[38;5;241m=\u001b[39m \u001b[38;5;28mself\u001b[39m\u001b[38;5;241m.\u001b[39mact(x)\n",
      "    \u001b[0;31m[... skipping hidden 2 frame]\u001b[0m\n",
      "File \u001b[0;32m~/Programs/mambaforge/envs/jax/lib/python3.11/site-packages/flax/linen/linear.py:480\u001b[0m, in \u001b[0;36m_Conv.__call__\u001b[0;34m(self, inputs)\u001b[0m\n\u001b[1;32m    474\u001b[0m \u001b[38;5;28;01mif\u001b[39;00m \u001b[38;5;28mself\u001b[39m\u001b[38;5;241m.\u001b[39mmask \u001b[38;5;129;01mis\u001b[39;00m \u001b[38;5;129;01mnot\u001b[39;00m \u001b[38;5;28;01mNone\u001b[39;00m \u001b[38;5;129;01mand\u001b[39;00m \u001b[38;5;28mself\u001b[39m\u001b[38;5;241m.\u001b[39mmask\u001b[38;5;241m.\u001b[39mshape \u001b[38;5;241m!=\u001b[39m kernel_shape:\n\u001b[1;32m    475\u001b[0m   \u001b[38;5;28;01mraise\u001b[39;00m \u001b[38;5;167;01mValueError\u001b[39;00m(\n\u001b[1;32m    476\u001b[0m       \u001b[38;5;124m'\u001b[39m\u001b[38;5;124mMask needs to have the same shape as weights. \u001b[39m\u001b[38;5;124m'\u001b[39m\n\u001b[1;32m    477\u001b[0m       \u001b[38;5;124mf\u001b[39m\u001b[38;5;124m'\u001b[39m\u001b[38;5;124mShapes are: \u001b[39m\u001b[38;5;132;01m{\u001b[39;00m\u001b[38;5;28mself\u001b[39m\u001b[38;5;241m.\u001b[39mmask\u001b[38;5;241m.\u001b[39mshape\u001b[38;5;132;01m}\u001b[39;00m\u001b[38;5;124m, \u001b[39m\u001b[38;5;132;01m{\u001b[39;00mkernel_shape\u001b[38;5;132;01m}\u001b[39;00m\u001b[38;5;124m'\u001b[39m\n\u001b[1;32m    478\u001b[0m   )\n\u001b[0;32m--> 480\u001b[0m kernel \u001b[38;5;241m=\u001b[39m \u001b[38;5;28mself\u001b[39m\u001b[38;5;241m.\u001b[39mparam(\n\u001b[1;32m    481\u001b[0m     \u001b[38;5;124m'\u001b[39m\u001b[38;5;124mkernel\u001b[39m\u001b[38;5;124m'\u001b[39m, \u001b[38;5;28mself\u001b[39m\u001b[38;5;241m.\u001b[39mkernel_init, kernel_shape, \u001b[38;5;28mself\u001b[39m\u001b[38;5;241m.\u001b[39mparam_dtype\n\u001b[1;32m    482\u001b[0m )\n\u001b[1;32m    484\u001b[0m \u001b[38;5;28;01mif\u001b[39;00m \u001b[38;5;28mself\u001b[39m\u001b[38;5;241m.\u001b[39mmask \u001b[38;5;129;01mis\u001b[39;00m \u001b[38;5;129;01mnot\u001b[39;00m \u001b[38;5;28;01mNone\u001b[39;00m:\n\u001b[1;32m    485\u001b[0m   kernel \u001b[38;5;241m*\u001b[39m\u001b[38;5;241m=\u001b[39m \u001b[38;5;28mself\u001b[39m\u001b[38;5;241m.\u001b[39mmask\n",
      "    \u001b[0;31m[... skipping hidden 1 frame]\u001b[0m\n",
      "File \u001b[0;32m~/Programs/mambaforge/envs/jax/lib/python3.11/site-packages/flax/core/scope.py:889\u001b[0m, in \u001b[0;36mScope.param\u001b[0;34m(self, name, init_fn, unbox, *init_args)\u001b[0m\n\u001b[1;32m    884\u001b[0m   \u001b[38;5;28;01mfor\u001b[39;00m val, abs_val \u001b[38;5;129;01min\u001b[39;00m \u001b[38;5;28mzip\u001b[39m(value_flat, abs_value_flat):\n\u001b[1;32m    885\u001b[0m     \u001b[38;5;66;03m# NOTE: We could check dtype consistency here as well but it's\u001b[39;00m\n\u001b[1;32m    886\u001b[0m     \u001b[38;5;66;03m# usefuleness is less obvious. We might intentionally change the dtype\u001b[39;00m\n\u001b[1;32m    887\u001b[0m     \u001b[38;5;66;03m# for inference to a half float type for example.\u001b[39;00m\n\u001b[1;32m    888\u001b[0m     \u001b[38;5;28;01mif\u001b[39;00m jnp\u001b[38;5;241m.\u001b[39mshape(val) \u001b[38;5;241m!=\u001b[39m jnp\u001b[38;5;241m.\u001b[39mshape(abs_val):\n\u001b[0;32m--> 889\u001b[0m       \u001b[38;5;28;01mraise\u001b[39;00m errors\u001b[38;5;241m.\u001b[39mScopeParamShapeError(\n\u001b[1;32m    890\u001b[0m           name, \u001b[38;5;28mself\u001b[39m\u001b[38;5;241m.\u001b[39mpath_text, jnp\u001b[38;5;241m.\u001b[39mshape(abs_val), jnp\u001b[38;5;241m.\u001b[39mshape(val)\n\u001b[1;32m    891\u001b[0m       )\n\u001b[1;32m    892\u001b[0m \u001b[38;5;28;01melse\u001b[39;00m:\n\u001b[1;32m    893\u001b[0m   \u001b[38;5;28;01mif\u001b[39;00m \u001b[38;5;129;01mnot\u001b[39;00m \u001b[38;5;28mself\u001b[39m\u001b[38;5;241m.\u001b[39mis_mutable_collection(\u001b[38;5;124m'\u001b[39m\u001b[38;5;124mparams\u001b[39m\u001b[38;5;124m'\u001b[39m):\n",
      "\u001b[0;31mScopeParamShapeError\u001b[0m: Initializer expected to generate shape (1, 1, 1024, 255) but got shape (1, 1, 1024, 75) instead for parameter \"kernel\" in \"/ScalePredict_0/ConvBlock_1/Conv_0\". (https://flax.readthedocs.io/en/latest/api_reference/flax.errors.html#flax.errors.ScopeParamShapeError)"
     ]
    }
   ],
   "source": [
    "@jax.jit\n",
    "def predict(x):\n",
    "    outputs = state.apply_fn(\n",
    "        {'params': state.params, 'batch_stats': state.batch_stats},\n",
    "        x, train=False\n",
    "    )\n",
    "    return jax.device_get(outputs)\n",
    "print(\"XLA compile...\")\n",
    "y = predict(jnp.empty((1,416,416,3), dtype='float32'))\n",
    "print(\"Compile complete!\")"
   ]
  },
  {
   "cell_type": "code",
   "execution_count": null,
   "id": "ccc0a604",
   "metadata": {},
   "outputs": [],
   "source": [
    "import io, time\n",
    "import ipywidgets as widgets\n",
    "from IPython.display import display, clear_output\n",
    "from PIL import Image, ImageEnhance\n",
    "import numpy as np\n",
    "import matplotlib.pyplot as plt\n",
    "from katacv.utils.detection import nms, plot_box, iou, slice_by_idxs, cvt_coord_cell2image, get_best_boxes_and_classes\n",
    "from katacv.utils.VOC.label2realname import label2realname\n",
    "\n",
    "upload_button = widgets.FileUpload(description=\"上传图片\")\n",
    "iou_slider = widgets.FloatSlider(description=\"IOU阈值 (NMS)\", min=0.0, max=1.0, step=0.01, value=0.3)\n",
    "conf_slider = widgets.FloatSlider(description=\"最低置信度阈值\", min=-0.5, max=2.0, step=0.01, value=0.2)\n",
    "aux_output = widgets.Text(\"模型/识别用时：\")\n",
    "\n",
    "# @jax.jit  # optimizer use jit\n",
    "def NMS(proba, boxes, iou_threshold, conf_threshold):\n",
    "    start_time = time.time()\n",
    "    cells = jnp.concatenate([proba, boxes], -1)\n",
    "    # boxes = jax.jit(get_best_boxes_and_classes, static_argnums=[1,2])(cells, B=2, C=20)[0]\n",
    "    boxes = get_best_boxes_and_classes(cells, B=2, C=20)[0]\n",
    "    print(\"get boxes time:\", time.time() - start_time)\n",
    "    start_time = time.time()\n",
    "    boxes = nms(boxes, iou_threshold=iou_threshold, conf_threshold=conf_threshold)\n",
    "    print(\"nms time:\", time.time() - start_time)\n",
    "    return boxes\n",
    "\n",
    "# 显示图片和调整亮度、对比度的函数\n",
    "def show_image(upload, iou_threshold, conf_threshold):\n",
    "    if upload:\n",
    "        uploaded_file = upload[0]\n",
    "        origin_image = Image.open(io.BytesIO(uploaded_file['content'])).convert('RGB')\n",
    "        resize_image = origin_image.resize((448,448))\n",
    "        # x = np.expand_dims(np.array(resize_image), 0)\n",
    "        x = jnp.expand_dims(jnp.array(resize_image), 0).astype('float32')\n",
    "        start_time = time.time()\n",
    "        \n",
    "        proba, boxes = predict(x)\n",
    "        aux_output.value = f\"模型用时：{time.time() - start_time:.4f} s\"\n",
    "        \n",
    "        boxes = NMS(proba, boxes, iou_threshold, conf_threshold)\n",
    "        \n",
    "        aux_output.value += f\" 识别总用时：{time.time() - start_time:.4f} s\"\n",
    "        \n",
    "        fig, ax = plt.subplots(figsize=(15,8))\n",
    "        ax.imshow(origin_image)\n",
    "        for i in range(boxes.shape[0]):\n",
    "            plot_box(ax, origin_image.size[::-1], boxes[i,1:5], text=f\"{label2realname[int(boxes[i,5])]} {float(boxes[i,0]):.2f}\")\n",
    "        plt.show()\n",
    "        # display(img)\n",
    "\n",
    "interactive_output = widgets.interactive_output(\n",
    "    show_image,\n",
    "    {\n",
    "        \"upload\": upload_button,\n",
    "        \"iou_threshold\": iou_slider, \n",
    "        \"conf_threshold\": conf_slider,\n",
    "    }\n",
    ")\n",
    "\n",
    "display(widgets.HBox([upload_button, iou_slider, conf_slider, aux_output]), interactive_output)\n"
   ]
  },
  {
   "cell_type": "code",
   "execution_count": null,
   "id": "fbb84f25",
   "metadata": {},
   "outputs": [],
   "source": []
  }
 ],
 "metadata": {
  "kernelspec": {
   "display_name": "Python 3 (ipykernel)",
   "language": "python",
   "name": "python3"
  },
  "language_info": {
   "codemirror_mode": {
    "name": "ipython",
    "version": 3
   },
   "file_extension": ".py",
   "mimetype": "text/x-python",
   "name": "python",
   "nbconvert_exporter": "python",
   "pygments_lexer": "ipython3",
   "version": "3.11.4"
  }
 },
 "nbformat": 4,
 "nbformat_minor": 5
}
